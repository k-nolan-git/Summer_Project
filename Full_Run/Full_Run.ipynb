{
 "cells": [
  {
   "cell_type": "markdown",
   "id": "heard-league",
   "metadata": {},
   "source": [
    "To see how the initial simulation was run and the initial RDF calcaulted see /Setup/Na-Na_Setup.ipynb"
   ]
  },
  {
   "cell_type": "markdown",
   "id": "inclusive-franchise",
   "metadata": {},
   "source": [
    "## Importing Libraries\n",
    "\n",
    "environment.yml contains environment with packages\n",
    "\n",
    "Also requires:\n",
    "\n",
    "MagiC-3 and MagicTools (http://www.fos.su.se/~sasha/magic/)\n",
    "\n",
    "LAMMPS (9 Oct 2020 version was used)\n",
    "\n",
    "LAMMPS MISC package for .xtc dump files"
   ]
  },
  {
   "cell_type": "code",
   "execution_count": null,
   "id": "seasonal-visitor",
   "metadata": {},
   "outputs": [],
   "source": [
    "os.system('conda env create -n myenv -f environment.yml')\n",
    "#use conda to load most necessary Python packages \n",
    "#MagicTools may need to be downloaded and installed separately"
   ]
  },
  {
   "cell_type": "code",
   "execution_count": 1,
   "id": "intellectual-apache",
   "metadata": {},
   "outputs": [],
   "source": [
    "import MagicTools as mt\n",
    "\n",
    "import numpy as np\n",
    "\n",
    "import matplotlib.pyplot as plt\n",
    "\n",
    "import tensorflow as tf\n",
    "from tensorflow.keras.models import Sequential\n",
    "from tensorflow.keras.layers import Dense, Dropout\n",
    "\n",
    "import os\n",
    "\n",
    "import string\n",
    "\n",
    "import itertools as it\n",
    "\n",
    "from scipy.signal import savgol_filter\n",
    "\n",
    "import random\n",
    "random.seed(1)"
   ]
  },
  {
   "cell_type": "code",
   "execution_count": null,
   "id": "painful-politics",
   "metadata": {},
   "outputs": [],
   "source": [
    "#os.system('conda env export > environment.yml')\n",
    "\n",
    "#recording packages used\n",
    "#does not need to be run unless packages required for notebook are changed"
   ]
  },
  {
   "cell_type": "markdown",
   "id": "human-winner",
   "metadata": {},
   "source": [
    "## Running the LAMMPS simulations\n",
    "\n",
    "It is necessary to run a large number of LAMMPS simulations to generate the training data for the network\n",
    "\n",
    "LAMMPS used: 9 Oct 2020 version\n",
    "\n",
    "MISC package for .xtc dump files"
   ]
  },
  {
   "cell_type": "code",
   "execution_count": 4,
   "id": "proprietary-yesterday",
   "metadata": {},
   "outputs": [],
   "source": [
    "input_rdf = mt.ReadRDF('Setup/NaNa.rdf', quiet= True) \n",
    "#This is the CG RDF file from the initial atomistic simulation\n",
    "\n",
    "Min = 0  \n",
    "Max = input_rdf.DFs[0].Max \n",
    "#range of r for potentials"
   ]
  },
  {
   "cell_type": "code",
   "execution_count": 5,
   "id": "portable-equality",
   "metadata": {},
   "outputs": [],
   "source": [
    "forbid = input_rdf.DFs[0].x[0] \n",
    "#this is the starting point for any potential, below this potential should be large\n",
    "#this should be altered so that if the RDF contains very low values at the start (say <= 0.1), these likely still are\n",
    "#part of the forbidden region and should be treated as such\n",
    "\n",
    "\n",
    "stepsize = input_rdf.DFs[0].x[1] - input_rdf.DFs[0].x[0] \n",
    "#the distance between each point in the potential \n",
    "rvalues = np.arange(Min + stepsize/2, Max + stepsize/2, stepsize) \n",
    "#an array containg the r values\n",
    "\n",
    "for i in range(len(rvalues)):\n",
    "    rvalues[i] = round(rvalues[i], 6) \n",
    "    #rounding the rvalues to prevent floating point errors\n",
    "    \n",
    "NPoints = len(rvalues) \n",
    "#the neumber of points in each full RDF/potential"
   ]
  },
  {
   "cell_type": "markdown",
   "id": "searching-statement",
   "metadata": {},
   "source": [
    "Creating the trial potentials for the simulations"
   ]
  },
  {
   "cell_type": "code",
   "execution_count": 4,
   "id": "phantom-accused",
   "metadata": {},
   "outputs": [],
   "source": [
    "def create_potential(N, forbidden): \n",
    "    #this function creates a random potential of N points\n",
    "    #forbidden region size forbid (in aangstroms)\n",
    "    #the potential is smoothed using a savgol filter\n",
    "    \n",
    "    pot = np.zeros(N) \n",
    "    #the array which will hold the potential\n",
    "    \n",
    "    rs = list(rvalues)\n",
    "    forbid = rs.index(forbidden) \n",
    "    #determines the index of the forbidden region (where in the list of rvalues it appears)\n",
    "    \n",
    "    for i in range(forbid):\n",
    "        pot[i] = 75000 - 50*i \n",
    "    #within the forbidden region the potential is simply a very large potential, decreasing linearly\n",
    "\n",
    "    non_forbid = np.zeros(N - forbid) \n",
    "    #non_forbid contains the potenital outside the forbidden region\n",
    "    non_forbid[0] = random.gauss(0, 2.5) \n",
    "    #The value of the potential just outside the forbidden region is \n",
    "    #taken from a Gaussian centred on zero with standard deviation 2.5\n",
    "    \n",
    "    i = 1\n",
    "    \n",
    "    while i < len(non_forbid):\n",
    "        non_forbid[i] = non_forbid[i - 1] + random.random() * random.gauss(0, .5)\n",
    "        #this determines how the potential at each point is calculated based on the previous point\n",
    "        #currently each point is equal to the previous point + value where\n",
    "        #value is taken from a gaussian centred at 0 with SD 0.5, which is then multiplied by a random weight between\n",
    "        #0 and 1\n",
    "        i = i + 1\n",
    "\n",
    "    non_forbid_smooth = savgol_filter(non_forbid, 31, 3)\n",
    "    #smooths the potential outside the forbidden region using a savgol filter\n",
    "    \n",
    "    while max(non_forbid_smooth) - min(non_forbid_smooth) > 15:\n",
    "        non_forbid_smooth = 0.9*non_forbid_smooth\n",
    "    #if the potential covers too large a range, multiply every entry by a factor of 0.9\n",
    "    \n",
    "    for i in range(len(non_forbid_smooth)):\n",
    "        pot[forbid + i] = non_forbid_smooth[i]\n",
    "    #attach the forbidden and non-forbidden regions to create the full potential\n",
    "\n",
    "    shift = pot[len(pot) - 1]\n",
    "    \n",
    "    pot = pot - shift\n",
    "    #shift the entire potenital so the potenital goes to zero at the cut off distance\n",
    "    \n",
    "    return pot"
   ]
  },
  {
   "cell_type": "code",
   "execution_count": 5,
   "id": "german-assumption",
   "metadata": {},
   "outputs": [],
   "source": [
    "potentials = []\n",
    "for i in range(10000):\n",
    "    trialpot = create_potential(len(rvalues), forbid)\n",
    "    potentials.append(trialpot)\n",
    "    \n",
    "#creates 10,000 potentials in the list potentials"
   ]
  },
  {
   "cell_type": "code",
   "execution_count": 6,
   "id": "derived-revelation",
   "metadata": {},
   "outputs": [
    {
     "data": {
      "text/plain": [
       "Text(0.5, 1.0, 'Trial Potentials')"
      ]
     },
     "execution_count": 6,
     "metadata": {},
     "output_type": "execute_result"
    },
    {
     "data": {
      "image/png": "[encoded data removed]",
      "text/plain": [
       "<Figure size 432x288 with 1 Axes>"
      ]
     },
     "metadata": {
      "needs_background": "light"
     },
     "output_type": "display_data"
    }
   ],
   "source": [
    "xo = np.linspace(0,15,300)\n",
    "\n",
    "for i in range(3):\n",
    "    plt.plot(xo, potentials[random.randint(0,len(potentials))])\n",
    "\n",
    "plt.ylim(-15, 15)\n",
    "\n",
    "plt.xlabel('r $\\AA$')\n",
    "plt.ylabel('Potential Kcal/mol')\n",
    "\n",
    "plt.title('Trial Potentials')\n",
    "\n",
    "#plot showing some example potentials"
   ]
  },
  {
   "cell_type": "markdown",
   "id": "appreciated-product",
   "metadata": {},
   "source": [
    "Writing the potentials to MagiC then to LAMMPS potential files "
   ]
  },
  {
   "cell_type": "code",
   "execution_count": 5,
   "id": "daily-flight",
   "metadata": {},
   "outputs": [],
   "source": [
    "def write_potential(filename, k):\n",
    "    #write potentials is a function which writes a magic potential file\n",
    "    #the first argument is the filename, output will be <filename>.pot\n",
    "    #k is the index of potential used\n",
    "    \n",
    "    N = len(input_rdf.AtomTypes)\n",
    "    N_NB = int(N*(N+1)/2) \n",
    "    #number of non-bonded interactions\n",
    "    N_B = int(0) \n",
    "    #number of bonded interactions (not currently supported)\n",
    "    N_A = int(0) \n",
    "    #number of angle interactions (not currently supported)\n",
    "\n",
    "    AtomList = []\n",
    "    for i in range(len(input_rdf.AtomTypes)):\n",
    "        AtomList.append(input_rdf.AtomTypes[i])\n",
    "    #AtomList contains all the different types of atom in the system \n",
    "    #in this case Na is the only atom type\n",
    "        \n",
    "    AtomPairs = list(it.combinations_with_replacement(AtomList, r = 2)) \n",
    "    #all possible atoms pairs, no repeats\n",
    "    \n",
    "    general_section = \" &General \\n\" + \" NTypes= {} \\n\".format(N) + \" N_NB= {} \\n\".format(N_NB) + \\\n",
    "    \" N_B= {} \\n\".format(N_B) + \" N_A= {} \\n\".format(N_A)+ \" Min= {} \\n\".format(Min) + \" Max= {} \\n\".format(Max) + \\\n",
    "    \" NPoints= {} \\n\".format(NPoints) + \" &EndGeneral \\n\"\n",
    "    #the section at the top of the MagiC .pot file\n",
    "    \n",
    "    potential_section = ''\n",
    "    \n",
    "    for i in range(len(AtomPairs)):\n",
    "        #for every atom pair combination\n",
    "        single_pot = potentials[k]\n",
    "        #single_pot is an array containing the potential to be used for that atom pair\n",
    "        header_section = \" &Potential \\n\" + \" Name= {}-{} \\n\".format(AtomPairs[i][0], AtomPairs[i][1]) + \\\n",
    "        \" Type = NB \\n\" \\\n",
    "        + \" Min= {} \\n\".format(Min) + \" Max= {} \\n\".format(Max) + \" NPoints= {} \\n\".format(NPoints) + \\\n",
    "        \" AtomTypes= {},{} \\n\".format(AtomPairs[i][0], AtomPairs[i][1])\n",
    "        #the header section for that atom pair\n",
    "        \n",
    "        table_section = ' &Table \\n'\n",
    "        for j in range(len(rvalues)):\n",
    "            rval = format(rvalues[j], '.7f')\n",
    "            potval = format(single_pot[j], '.7f')\n",
    "            table_section = table_section + \"     \" + str(rval) + \"  \" + str(potval) + \" \\n\"\n",
    "            \n",
    "        #the actual  potential values at given distances for that atom pair\n",
    "            \n",
    "        table_section = table_section + \" &EndTable \\n\" + \" &EndPotential \\n\"\n",
    "        #the footer for the atom pair\n",
    "        \n",
    "        potential_section = potential_section + header_section + table_section\n",
    "        #adding the new potential section for the i th pair to the overall potential section\n",
    "        \n",
    "    potfile = open('{}.pot'.format(filename), 'w')\n",
    "    #create the new file filename.pot\n",
    "    potfile.write(general_section)\n",
    "    #write the header section\n",
    "    potfile.write(potential_section)\n",
    "    #write all the potentials to the file\n",
    "    potfile.close()\n",
    "    #saving the file to filename.pot\n",
    "    \n",
    "    \n",
    "#see Other_Jupyter_Notebooks/Creating_Potentials for a modified function which can deal with more than 1 bead type"
   ]
  },
  {
   "cell_type": "markdown",
   "id": "bright-anthony",
   "metadata": {},
   "source": [
    "Writing LAMMPS potential files"
   ]
  },
  {
   "cell_type": "code",
   "execution_count": null,
   "id": "wound-thanksgiving",
   "metadata": {},
   "outputs": [],
   "source": [
    "for i in range(10000):\n",
    "    write_potential('Magic_Potentials/potential{}'.format(i), i)\n",
    "    pot = mt.ReadPot('MagiC_Potentials/potential{}.pot'.format(i), quiet = True)\n",
    "    mt.PotsExport(pot, MDEngine = 'LAMMPS', Rmaxtable = 15.5, PHImaxtable = 180.0, \\\n",
    "                    npoints = 2500, Umax = 6000.0, \\\n",
    "                    interpol = True, method = 'gauss', sigma = 0.5, noplot=True, hardcopy = False, \\\n",
    "                    filename = 'LAMMPS_Potentials/potential{}'.format(i))\n",
    "    \n",
    "#loop which first writes the potential to MagiC potential files, then uses MagicTools PotsExport to write LAMMPS\n",
    "#potential files"
   ]
  },
  {
   "cell_type": "markdown",
   "id": "productive-expression",
   "metadata": {},
   "source": [
    "Writing LAMMPS input files"
   ]
  },
  {
   "cell_type": "code",
   "execution_count": 9,
   "id": "grateful-falls",
   "metadata": {
    "scrolled": true
   },
   "outputs": [
    {
     "name": "stdout",
     "output_type": "stream",
     "text": [
      "0: processors 1 1 1\n",
      "\n",
      "1: units real\n",
      "\n",
      "2: atom_style atomic\n",
      "\n",
      "3: \n",
      "\n",
      "4: region box block 0 40 0 40 0 40\n",
      "\n",
      "5: create_box 1 box\n",
      "\n",
      "6: create_atoms 1 random 20 2352 box\n",
      "\n",
      "7: mass 1 23\n",
      "\n",
      "8: \n",
      "\n",
      "9: pair_style table linear 1000\n",
      "\n",
      "10: pair_coeff 1 1 target_potential.Na_Na.table Na_Na\n",
      "\n",
      "11: \n",
      "\n",
      "12: velocity all create 0.5 157\n",
      "\n",
      "13: \n",
      "\n",
      "14: neighbor 0.5 bin\n",
      "\n",
      "15: neigh_modify every 20 delay 0 check no \n",
      "\n",
      "16: \n",
      "\n",
      "17: fix 1 all nvt temp 300 300 100\n",
      "\n",
      "18: dump id all xtc 100 NaNa.xtc\n",
      "\n",
      "19: \n",
      "\n",
      "20: timestep 1\n",
      "\n",
      "21: \n",
      "\n",
      "22: run 1000000\n"
     ]
    }
   ],
   "source": [
    "inp = open(\"Setup/NaNa.in\", \"r\")\n",
    "#Setup/NaNa.in is the LAMMPS input file used to run the initial simulation\n",
    "inp_lines = inp.readlines() \n",
    "#indexed list where each element is a string containing a single line from the LAMMPS input file\n",
    "inp.close\n",
    "for i in range(len(inp_lines)):\n",
    "    print('{}: '.format(i) + inp_lines[i])\n",
    "#prints the input file line by line, with each line preceded by its index\n",
    "\n",
    "\n",
    "#in general, the input file should be a LAMMPS input file for the Coarse Grained system\n",
    "#with all information except the potentials"
   ]
  },
  {
   "cell_type": "code",
   "execution_count": null,
   "id": "weird-gates",
   "metadata": {},
   "outputs": [],
   "source": [
    "def write_input_xtc(i):\n",
    "    #function to write the LAMMPS input files to generate the training data\n",
    "    #i is the index of the file to be written\n",
    "    #the potential file to be read is LAMMPS_Potentials/potential{i}.Na_Na.table\n",
    "    inp = open(\"Setup/NaNa.in\", \"r\")\n",
    "    inp_lines = inp.readlines()\n",
    "    inp.close\n",
    "    #read in the base input\n",
    "    \n",
    "    inp_lines[10] = 'pair_coeff 1 1 LAMMPS_Potentials/potential{}.Na_Na.table Na_Na'.format(i)\n",
    "    #changes the potential to be sued\n",
    "    \n",
    "    inp_lines[18] = 'dump id all xtc 100 LAMMPS_Trajectories/traj{}.xtc'.format(i)\n",
    "    #change the output file to be LAMMPS_Trajectories/traj{i}.xtc\n",
    "    \n",
    "    inp_lines[22] = 'run 300000'\n",
    "    #shorten the simulation time from 10ns to 3ns (may be possible to go shorter, which would improve both simulation\n",
    "    #time and time taken to create the RDFs)\n",
    "    \n",
    "    out = open('LAMMPS_Inputs/input{}.in'.format(i), 'w')\n",
    "    for obj in inp_lines:\n",
    "        out.write(obj)\n",
    "    out.close\n",
    "    #write the new input file to LAMMPS_Inputs/input{i}.in\n",
    "    \n",
    "    \n",
    "#see Other_Jupyter_Notebooks/Creating_Potentials for a modified function which can deal with more than 1 bead type"
   ]
  },
  {
   "cell_type": "code",
   "execution_count": null,
   "id": "framed-melbourne",
   "metadata": {},
   "outputs": [],
   "source": [
    "for i in range(10000):\n",
    "    write_input_xtc(i)\n",
    "    os.system('lmp -in LAMMPS_Inputs/input{i}.in')\n",
    "#loop to write the 10,000 input files\n",
    "#LAMMPS MISC library is needed to write .xtc files\n",
    "#then run the LAMMPS simulations (for larger systems mpirun will likely be necessary)"
   ]
  },
  {
   "cell_type": "markdown",
   "id": "convinced-investment",
   "metadata": {},
   "source": [
    "## Creating the RDFs"
   ]
  },
  {
   "cell_type": "code",
   "execution_count": 11,
   "id": "bored-actor",
   "metadata": {},
   "outputs": [
    {
     "name": "stdout",
     "output_type": "stream",
     "text": [
      "0: &Parameters\n",
      "\n",
      "1:  TrajFile = NaNa.xtc\n",
      "\n",
      "2:  NMType = 1\n",
      "\n",
      "3:  NameMType = Na+.CG,\n",
      "\n",
      "4:  NMolMType = 20,\n",
      "\n",
      "5:  NFBEG = 1,\n",
      "\n",
      "6:  NFEND = 1,\n",
      "\n",
      "7:  ISTEP = 1, \n",
      "\n",
      "8:  OutputFile = NaNa.rdf\n",
      "\n",
      "9:  RMaxNB = 15.\n",
      "\n",
      "10:  RMaxB =10.0\n",
      "\n",
      "11:  ResolNB =0.05\n",
      "\n",
      "12:  ResolB=0.02\n",
      "\n",
      "13:  ResolA=1.0\n",
      "\n",
      "14: &ENDParameters\n",
      "\n",
      "15: \n",
      "\n",
      "16: &CGTypes\n",
      "\n",
      "17: Na: Na\n",
      "\n",
      "18: &EndCGTypes\n",
      "\n",
      "19: \n",
      "\n",
      "20: &RDFsNB\n",
      "\n",
      "21: Add: all\n",
      "\n",
      "22: &EndRDFsNB\n",
      "\n",
      "23: \n",
      "\n",
      "24: &RDFsB\n",
      "\n",
      "25: &EndRDFsB\n",
      "\n",
      "26: \n",
      "\n",
      "27: &RDFsA\n",
      "\n",
      "28: &EndRDFsA\n",
      "\n"
     ]
    }
   ],
   "source": [
    "inp = open(\"Setup/NaNa.inp\", \"r\")\n",
    "#Setup/NaNa.inp is the input script used to create the RDF from the initial simulation\n",
    "\n",
    "\n",
    "inp_lines = inp.readlines()\n",
    "inp.close\n",
    "for i in range(len(inp_lines)):\n",
    "    print('{}: '.format(i) + inp_lines[i])\n",
    "    \n",
    "#reading and printing the base rdf.py input script"
   ]
  },
  {
   "cell_type": "code",
   "execution_count": 12,
   "id": "southwest-overview",
   "metadata": {},
   "outputs": [],
   "source": [
    "def write_rdf_inp(i):\n",
    "    #function which writes rdf creation input script for traj{i}.xtc, resulting in rdf{i}.rdf\n",
    "    inp = open(\"Setup/NaNa.inp\", \"r\")\n",
    "    inp_lines = inp.readlines()\n",
    "    inp.close\n",
    "\n",
    "    inp_lines[1] = ' TrajFile = LAMMPS_Trajectories/traj{}.xtc \\n'.format(i)\n",
    "    #changing the input trajectory filename\n",
    "    \n",
    "    inp_lines[8] = ' OutputFile = RDFs/rdf{}.rdf \\n'.format(i)\n",
    "    #changing the output rdf filename\n",
    "    \n",
    "    out = open('RDF_Inputs/rdfinput{}.inp'.format(i), 'w')\n",
    "    for obj in inp_lines:\n",
    "        out.write(obj)\n",
    "    out.close\n",
    "    #writing and saving the rdf input file\n",
    "    \n",
    "#see Other_Jupyter_Notebooks/Creating_RDFs for a modified function which can deal with more than 1 bead type"
   ]
  },
  {
   "cell_type": "markdown",
   "id": "informative-detector",
   "metadata": {},
   "source": [
    ".mmol topography files are needed to run rdf.py\n",
    "\n",
    "Other_Jupyter_Notebooks/Creating_RDFs also has function to create necessary .mmol files"
   ]
  },
  {
   "cell_type": "code",
   "execution_count": null,
   "id": "canadian-forth",
   "metadata": {},
   "outputs": [],
   "source": [
    "for i in range(10000):\n",
    "    write_rdf_inp(i)\n",
    "    os.system('rdf.py -i RDF_Inputs/rdfinput{}.inp'.format(i))\n",
    "    \n",
    "#writing RDF input files and then running rdf.py\n",
    "#rdf.py is part of MagiC-3"
   ]
  },
  {
   "cell_type": "markdown",
   "id": "complete-march",
   "metadata": {},
   "source": [
    "## Creating DNN training data"
   ]
  },
  {
   "cell_type": "code",
   "execution_count": 6,
   "id": "pressing-intersection",
   "metadata": {},
   "outputs": [],
   "source": [
    "rdflist = []\n",
    "potlist = []\n",
    "for i in range(10000):\n",
    "    rdfval = mt.ReadRDF('RDFs/rdf{}.rdf'.format(i), quiet = True)\n",
    "    rdflist.append(rdfval)\n",
    "    potval = mt.ReadPot('Magic_Potentials/potential{}.pot'.format(i), quiet = True)\n",
    "    potlist.append(potval)\n",
    "    \n",
    "#rdflist and potlist contain lists where each list element is a DFset object (see MagiCTools documentation)"
   ]
  },
  {
   "cell_type": "code",
   "execution_count": 7,
   "id": "national-stamp",
   "metadata": {},
   "outputs": [],
   "source": [
    "x = rvalues\n",
    "# x is the array of rvalues, or the distances at which the indivual points in the RDFs and potentials are defined"
   ]
  },
  {
   "cell_type": "code",
   "execution_count": 8,
   "id": "endless-facing",
   "metadata": {},
   "outputs": [
    {
     "name": "stdout",
     "output_type": "stream",
     "text": [
      "10000\n",
      "10000\n"
     ]
    }
   ],
   "source": [
    "print(len(rdflist))\n",
    "print(len(potlist))"
   ]
  },
  {
   "cell_type": "code",
   "execution_count": 9,
   "id": "outstanding-concept",
   "metadata": {},
   "outputs": [],
   "source": [
    "rdfs = []\n",
    "for i in range(len(rdflist)):\n",
    "    N = len(rdflist[i].DFs)\n",
    "    #N is the number of pair interactions, in this example N = 1\n",
    "    #Since RDFset objects exclude the forbidden region by default, it is necessary to first create an array holding\n",
    "    #the entire RDF, then cut out the necessary parts\n",
    "    #this is because it is not necessary that all teh RDFset objects have the same start and endpoints\n",
    "    \n",
    "    for j in range(N):\n",
    "        holder = np.empty((300))\n",
    "        #empty array to hold the entire rdf\n",
    "        startindex = np.where(x == round(rdflist[i].DFs[j].x[0], 3))[0][0]\n",
    "        #startindex is the rvalues index corresponding to the first non-zero RDF value, \n",
    "        #i.e. the index for the smallest rvalue outside the forbidden region \n",
    "        for k in range(300):\n",
    "            if k < startindex:\n",
    "                holder[k] = 0 \n",
    "                #if k < startindex, x[k] is within forbidden region, so RDF value is 0\n",
    "            elif k >= startindex and k-startindex < len(rdflist[i].DFs[j].x):\n",
    "                holder[k] = rdflist[i].DFs[j].y[k-startindex]\n",
    "                #if the element is within the DFset object take the RDF value from the object\n",
    "            else:\n",
    "                holder[k] = 0\n",
    "                #if the DFset object ends early set the RDF value to zero\n",
    "                #the object can end early if teh RDF is 0 valued above a certain r value\n",
    "        \n",
    "        new = np.zeros(len(input_rdf.DFs[0].x))\n",
    "        #array for the RDF exluding the forbidden region\n",
    "        #len(input_rdf.DFs[0].x) is the length of the non-forbidden region from the initial (input) RDF\n",
    "        for l in range(1, len(new) + 1):\n",
    "            new[-l] = holder[-l]\n",
    "        #fills the new array, starting from the end (large r) until it reaches the forbidden region \n",
    "        \n",
    "        new = tf.constant(new)\n",
    "        #changes array to TensorFlow object\n",
    "        \n",
    "        rdfs.append(new)\n",
    "        #puts the tensorflow object in the list\n",
    "        \n",
    "#this loop creates the list rdfs, where each element is a tensorflow object of the rdfs, exluding the forbidden region\n",
    "#will need some modification to be compatible with systems of different number of bead type\n",
    "#final tf object may be of shape ~(N, 300) before forbidden region is removed\n",
    "\n",
    "#may also be beneicial to change to definition of the forbidden region so it includes areas where the RDF has non-zero\n",
    "#but very small values"
   ]
  },
  {
   "cell_type": "code",
   "execution_count": 10,
   "id": "helpful-benchmark",
   "metadata": {},
   "outputs": [],
   "source": [
    "pots = []\n",
    "for i in range(len(potlist)):\n",
    "    N = len(rdflist[i].DFs)\n",
    "    \n",
    "    for j in range(N):\n",
    "        holder = np.empty((300))\n",
    "        \n",
    "        startindex = np.where(x == round(potlist[i].DFs[j].x[0], 3))[0][0]\n",
    "        for k in range(300):\n",
    "            if k < startindex:\n",
    "                holder[k] = 50000 - 100*i \n",
    "                #inside forbidden region large potential with negative linear slope\n",
    "            elif k >= startindex and k-startindex < len(potlist[i].DFs[j].x):\n",
    "                holder[k] = potlist[i].DFs[j].y[k-startindex] + 30\n",
    "            else:\n",
    "                print(\"error\", i, j)\n",
    "        \n",
    "        new = np.zeros(len(potlist[0].DFs[0].x))\n",
    "        for l in range(1, len(new) + 1):\n",
    "            new[-l] = holder[-l]\n",
    "        \n",
    "        new = tf.constant(new)\n",
    "        pots.append(new)\n",
    "        \n",
    "#same format as creating rdfs\n",
    "#but potential in the forbidden region is very large with negative linear slope\n",
    "#and potentials cannot end early, unlike RDFs\n",
    "\n",
    "#potentials are also shifted up by 30 to improve the performance of the network\n",
    "#if the network target data has many values around zero the networks performance can be reduced"
   ]
  },
  {
   "cell_type": "code",
   "execution_count": 11,
   "id": "removable-ocean",
   "metadata": {},
   "outputs": [
    {
     "name": "stdout",
     "output_type": "stream",
     "text": [
      "10000\n",
      "10000\n"
     ]
    }
   ],
   "source": [
    "print(len(pots))\n",
    "print(len(rdfs))"
   ]
  },
  {
   "cell_type": "code",
   "execution_count": 12,
   "id": "cellular-attitude",
   "metadata": {},
   "outputs": [],
   "source": [
    "inputs = tf.stack(rdfs)\n",
    "outputs = tf.stack(pots)\n",
    "#changing the lists into tensorflow compatible inputs and output tensors"
   ]
  },
  {
   "cell_type": "markdown",
   "id": "advanced-royalty",
   "metadata": {},
   "source": [
    "## Building the network"
   ]
  },
  {
   "cell_type": "code",
   "execution_count": 13,
   "id": "satisfied-manor",
   "metadata": {},
   "outputs": [],
   "source": [
    "opt = tf.keras.optimizers.Adam()\n",
    "#the optimzer used to train the network"
   ]
  },
  {
   "cell_type": "code",
   "execution_count": 14,
   "id": "interested-income",
   "metadata": {},
   "outputs": [
    {
     "name": "stdout",
     "output_type": "stream",
     "text": [
      "Model: \"sequential\"\n",
      "_________________________________________________________________\n",
      "Layer (type)                 Output Shape              Param #   \n",
      "=================================================================\n",
      "dense (Dense)                (None, 257)               66306     \n",
      "_________________________________________________________________\n",
      "dense_1 (Dense)              (None, 80)                20640     \n",
      "_________________________________________________________________\n",
      "dense_2 (Dense)              (None, 80)                6480      \n",
      "_________________________________________________________________\n",
      "dense_3 (Dense)              (None, 257)               20817     \n",
      "=================================================================\n",
      "Total params: 114,243\n",
      "Trainable params: 114,243\n",
      "Non-trainable params: 0\n",
      "_________________________________________________________________\n"
     ]
    }
   ],
   "source": [
    "model = Sequential()\n",
    "\n",
    "model.add(Dense(rdfs[0].shape[0], activation = 'selu', input_shape = rdfs[0].shape))\n",
    "model.add(Dense(80, activation = 'selu'))\n",
    "model.add(Dense(80, activation = 'selu'))\n",
    "\n",
    "model.add(Dense(pots[0].shape[0]))\n",
    "\n",
    "model.summary()\n",
    "\n",
    "#building the dnn\n",
    "#for more complex system, the input shape will look something like (N, 257)"
   ]
  },
  {
   "cell_type": "markdown",
   "id": "cutting-retention",
   "metadata": {},
   "source": [
    "## Training the network"
   ]
  },
  {
   "cell_type": "code",
   "execution_count": 52,
   "id": "helpful-mathematics",
   "metadata": {},
   "outputs": [],
   "source": [
    "loss_object = tf.keras.losses.MeanSquaredError()\n",
    "\n",
    "#object to calculate Mean Squared Error"
   ]
  },
  {
   "cell_type": "code",
   "execution_count": 15,
   "id": "temporal-setting",
   "metadata": {},
   "outputs": [],
   "source": [
    "model.compile(loss = tf.keras.losses.MeanSquaredError(), optimizer = opt)\n",
    "#use MSE for loss is standard for regression\n",
    "history = model.fit(inputs, outputs, epochs = 2000, batch_size = 100, verbose = 0, validation_split = 0.2)\n",
    "#training the network"
   ]
  },
  {
   "cell_type": "code",
   "execution_count": 16,
   "id": "organic-scratch",
   "metadata": {},
   "outputs": [
    {
     "data": {
      "image/png": "[encoded data removed]",
      "text/plain": [
       "<Figure size 432x288 with 1 Axes>"
      ]
     },
     "metadata": {
      "needs_background": "light"
     },
     "output_type": "display_data"
    }
   ],
   "source": [
    "plt.plot(history.history['loss'], label = 'loss')\n",
    "plt.plot(history.history['val_loss'], label = 'val loss')\n",
    "plt.ylim(0, 1)\n",
    "\n",
    "plt.xlabel('Epochs')\n",
    "plt.ylabel('Loss (MSE)')\n",
    "plt.legend()\n",
    "plt.title('Training')\n",
    "\n",
    "plt.savefig('trainingloss.png')\n",
    "\n",
    "#plotting network performance during training"
   ]
  },
  {
   "cell_type": "code",
   "execution_count": 25,
   "id": "fatal-safety",
   "metadata": {},
   "outputs": [
    {
     "name": "stdout",
     "output_type": "stream",
     "text": [
      "WARNING:tensorflow:From /opt/miniconda3/lib/python3.8/site-packages/tensorflow/python/ops/resource_variable_ops.py:1813: calling BaseResourceVariable.__init__ (from tensorflow.python.ops.resource_variable_ops) with constraint is deprecated and will be removed in a future version.\n",
      "Instructions for updating:\n",
      "If using Keras pass *_constraint arguments to layers.\n",
      "INFO:tensorflow:Assets written to: model7/assets\n"
     ]
    }
   ],
   "source": [
    "model.save('modelname')\n",
    "#saving the newly trained network"
   ]
  },
  {
   "cell_type": "code",
   "execution_count": 36,
   "id": "choice-forest",
   "metadata": {},
   "outputs": [
    {
     "name": "stdout",
     "output_type": "stream",
     "text": [
      "loss = 0.1450379192829132\n",
      "val_loss = 0.37820079922676086\n"
     ]
    }
   ],
   "source": [
    "print('loss = ' + str(history.history['loss'][-1]))\n",
    "print('val_loss = ' + str(history.history['val_loss'][-1]))\n",
    "\n",
    "#finding the loss and val loss for the trained network"
   ]
  },
  {
   "cell_type": "markdown",
   "id": "humanitarian-regular",
   "metadata": {},
   "source": [
    "Model1: loss ~ 1.5 \\\n",
    "        val_loss ~ 0.9\n",
    "        \n",
    "        \n",
    "Model2: loss ~ 0.17 \\\n",
    "        val_loss ~ 0.47\n",
    "        \n",
    "        \n",
    "Model3: loss ~ 0.17 \\\n",
    "        val_loss ~ 0.45\n",
    "        \n",
    "        \n",
    "Model4: loss: 0.1957 \\\n",
    "val_loss: 0.3878\n",
    "\n",
    "Model5: loss: 0.2075 \\\n",
    "val_loss: 0.3788\n",
    "\n",
    "Model6: loss: 0.1921 \\\n",
    " val_loss: 0.3682\n",
    " \n",
    "Model7: loss: .145037 \\\n",
    "val_loss: 0.37820\n",
    "\n",
    "\n",
    "Despite having worse network performance, Model7 appears to have very slighty better performance on the Test Na+ RDF (than model 6)"
   ]
  },
  {
   "cell_type": "markdown",
   "id": "abstract-article",
   "metadata": {},
   "source": [
    "## Testing the network"
   ]
  },
  {
   "cell_type": "code",
   "execution_count": 37,
   "id": "funny-mistake",
   "metadata": {},
   "outputs": [],
   "source": [
    "test_inp = np.array(input_rdf.DFs[0].y)\n",
    "\n",
    "#taking the input read in from the start of the notebook\n",
    "#from first cell after importing libraries"
   ]
  },
  {
   "cell_type": "code",
   "execution_count": 19,
   "id": "statistical-cedar",
   "metadata": {},
   "outputs": [],
   "source": [
    "input_pot = mt.ReadPot('Setup/NaNa.pot', quiet= True)\n",
    "inpot = np.array(input_pot.DFs[0].y)\n",
    "\n",
    "#read in the true potential the network is attempting the recreate"
   ]
  },
  {
   "cell_type": "code",
   "execution_count": 47,
   "id": "continent-drunk",
   "metadata": {},
   "outputs": [],
   "source": [
    "test = np.array([test_inp])\n",
    "\n",
    "modelpred = model.predict([test])\n",
    "#use the network to make a prediction\n",
    "\n",
    "z = np.linspace(0, 15, 300)\n",
    "\n",
    "testpred = np.zeros(300)\n",
    "act = np.zeros(300)\n",
    "#array to hold the full predicted and actual potentials \n",
    "\n",
    "for i in range(1, 301):\n",
    "    if i < len(modelpred[0]):\n",
    "        testpred[-i] = modelpred[0][-i]\n",
    "    else:\n",
    "        testpred[-i] = 50000 + 3*i\n",
    "        \n",
    "        \n",
    "    if i < len(inpot):\n",
    "        act[-i] = inpot[-i]\n",
    "    else:\n",
    "        act[-i] = 50000 + 3*i\n",
    "        \n",
    "#add in the the forbidden region\n",
    "#the predicted and input arrays are cut to exclude the forbidden region\n",
    "\n",
    "testpred = testpred - 30\n",
    "\n",
    "#shift the predicted potential back down"
   ]
  },
  {
   "cell_type": "code",
   "execution_count": 55,
   "id": "animated-significance",
   "metadata": {},
   "outputs": [
    {
     "data": {
      "text/plain": [
       "Text(0.5, 1.0, 'Pots (Trained Model)')"
      ]
     },
     "execution_count": 55,
     "metadata": {},
     "output_type": "execute_result"
    },
    {
     "data": {
      "image/png": "[encoded data removed]",
      "text/plain": [
       "<Figure size 432x288 with 1 Axes>"
      ]
     },
     "metadata": {
      "needs_background": "light"
     },
     "output_type": "display_data"
    }
   ],
   "source": [
    "plt.plot(z, testpred, label = 'Predict')\n",
    "plt.plot(z, act, label = 'True')\n",
    "    \n",
    "plt.legend()\n",
    "plt.ylim(-5,12)\n",
    "plt.title('Pots (Trained Model)')\n",
    "\n",
    "#plot of the predicted and actual potentials using the trained network"
   ]
  },
  {
   "cell_type": "code",
   "execution_count": 56,
   "id": "sensitive-status",
   "metadata": {},
   "outputs": [
    {
     "name": "stdout",
     "output_type": "stream",
     "text": [
      "tf.Tensor(0.9843105673789978, shape=(), dtype=float64)\n"
     ]
    }
   ],
   "source": [
    "ytrue = np.zeros(244)\n",
    "ypred = np.zeros(244)\n",
    "\n",
    "for i in range(1, 245):\n",
    "    ytrue[-i] = inpot[-i]\n",
    "    ypred[-i] = testpred[-i]\n",
    "    \n",
    "print(loss_object(ytrue, ypred))"
   ]
  },
  {
   "cell_type": "code",
   "execution_count": 27,
   "id": "vocal-recruitment",
   "metadata": {},
   "outputs": [
    {
     "name": "stdout",
     "output_type": "stream",
     "text": [
      "Model: \"sequential\"\n",
      "_________________________________________________________________\n",
      "Layer (type)                 Output Shape              Param #   \n",
      "=================================================================\n",
      "dense (Dense)                (None, 257)               66306     \n",
      "_________________________________________________________________\n",
      "dense_1 (Dense)              (None, 80)                20640     \n",
      "_________________________________________________________________\n",
      "dense_2 (Dense)              (None, 80)                6480      \n",
      "_________________________________________________________________\n",
      "dense_3 (Dense)              (None, 257)               20817     \n",
      "=================================================================\n",
      "Total params: 114,243\n",
      "Trainable params: 114,243\n",
      "Non-trainable params: 0\n",
      "_________________________________________________________________\n"
     ]
    }
   ],
   "source": [
    "loadmodel = tf.keras.models.load_model('Model7', compile = False)\n",
    "loadmodel.summary()\n",
    "loadmodel.compile()\n",
    "\n",
    "#load and compile one of the previous trained networks"
   ]
  },
  {
   "cell_type": "code",
   "execution_count": 45,
   "id": "smaller-bermuda",
   "metadata": {},
   "outputs": [],
   "source": [
    "test = np.array([test_inp])\n",
    "\n",
    "modelpred = loadmodel.predict([test])\n",
    "\n",
    "z = np.linspace(0, 15, 300)\n",
    "\n",
    "pred = np.zeros(300)\n",
    "act = np.zeros(300)\n",
    "\n",
    "for i in range(1, 301):\n",
    "    if i < len(modelpred[0]):\n",
    "        pred[-i] = modelpred[0][-i]\n",
    "    else:\n",
    "        pred[-i] = 50000 + 50*i\n",
    "        \n",
    "        \n",
    "    if i < len(inpot):\n",
    "        act[-i] = inpot[-i]\n",
    "    else:\n",
    "        act[-i] = 50000 + 50*i\n",
    "        \n",
    "pred = pred - 30\n",
    "#repeat the process to make a prediction, this time using the loaded trained network"
   ]
  },
  {
   "cell_type": "code",
   "execution_count": 49,
   "id": "identified-programmer",
   "metadata": {},
   "outputs": [
    {
     "data": {
      "text/plain": [
       "Text(0.5, 1.0, 'Pots (Load Model)')"
      ]
     },
     "execution_count": 49,
     "metadata": {},
     "output_type": "execute_result"
    },
    {
     "data": {
      "image/png": "[encoded data removed]",
      "text/plain": [
       "<Figure size 432x288 with 1 Axes>"
      ]
     },
     "metadata": {
      "needs_background": "light"
     },
     "output_type": "display_data"
    }
   ],
   "source": [
    "plt.plot(z, pred, label = 'Predict')\n",
    "plt.plot(z, act, label = 'True')\n",
    "    \n",
    "plt.legend()\n",
    "plt.ylim(-5,12)\n",
    "plt.xlabel('r $\\AA$')\n",
    "plt.ylabel('Potential Kcal/mol')\n",
    "\n",
    "plt.title('Pots (Load Model)')\n",
    "\n",
    "#plot of predicted and actual potentials using loaded network"
   ]
  },
  {
   "cell_type": "code",
   "execution_count": 63,
   "id": "alien-lebanon",
   "metadata": {},
   "outputs": [
    {
     "name": "stdout",
     "output_type": "stream",
     "text": [
      "tf.Tensor(3.366459846496582, shape=(), dtype=float64)\n"
     ]
    }
   ],
   "source": [
    "ytrue = np.zeros(243)\n",
    "ypred = np.zeros(243)\n",
    "\n",
    "for i in range(1, 244):\n",
    "    ytrue[-i] = act[-i]\n",
    "    ypred[-i] = test[0][-i]\n",
    "    \n",
    "print(loss_object(ytrue, ypred))\n",
    "#find the MSE of the non forbidden region (roughly cut for the larger forbidden region)"
   ]
  },
  {
   "cell_type": "code",
   "execution_count": 64,
   "id": "graphic-medicine",
   "metadata": {},
   "outputs": [],
   "source": [
    "N = len(input_rdf.AtomTypes)\n",
    "N_NB = int(N*(N+1)/2) #number of non-bonded interactions\n",
    "N_B = int(0) #number of bonded interactions\n",
    "N_A = int(0) #number of angle interactions\n",
    "\n",
    "AtomList = []\n",
    "for i in range(len(input_rdf.AtomTypes)):\n",
    "    AtomList.append(input_rdf.AtomTypes[i])\n",
    "        \n",
    "AtomPairs = list(it.combinations_with_replacement(AtomList, r = 2)) #all possible atoms pairs, no repeats\n",
    "    \n",
    "general_section = \" &General \\n\" + \" NTypes= {} \\n\".format(N) + \" N_NB= {} \\n\".format(N_NB) + \\\n",
    "\" N_B= {} \\n\".format(N_B) + \" N_A= {} \\n\".format(N_A)+ \" Min= {} \\n\".format(Min) + \" Max= {} \\n\".format(Max) + \\\n",
    "\" NPoints= {} \\n\".format(NPoints) + \" &EndGeneral \\n\"\n",
    "    \n",
    "potential_section = ''\n",
    "for i in range(len(AtomPairs)):\n",
    "    \n",
    "    single_pot = pred #this is the potential that will be written\n",
    "    \n",
    "    \n",
    "    header_section = \" &Potential \\n\" + \" Name= {}-{} \\n\".format(AtomPairs[i][0], AtomPairs[i][1]) + \\\n",
    "    \" Type = NB \\n\" \\\n",
    "    + \" Min= {} \\n\".format(Min) + \" Max= {} \\n\".format(Max) + \" NPoints= {} \\n\".format(NPoints) + \\\n",
    "    \" AtomTypes= {},{} \\n\".format(AtomPairs[i][0], AtomPairs[i][1])\n",
    "        \n",
    "    table_section = ' &Table \\n'\n",
    "    for j in range(len(rvalues)):\n",
    "        rval = format(rvalues[j], '.7f')\n",
    "        potval = format(single_pot[j], '.7f')\n",
    "        table_section = table_section + \"     \" + str(rval) + \"  \" + str(potval) + \" \\n\"\n",
    "            \n",
    "    table_section = table_section + \" &EndTable \\n\" + \" &EndPotential \\n\"\n",
    "        \n",
    "    potential_section = potential_section + header_section + table_section\n",
    "        \n",
    "potfile = open('Test/pred.pot', 'w')\n",
    "potfile.write(general_section)\n",
    "potfile.write(potential_section)\n",
    "potfile.close()\n",
    "\n",
    "#writing the predicted potential to a file\n",
    "\n",
    "#modified version of write_potential()"
   ]
  },
  {
   "cell_type": "code",
   "execution_count": 65,
   "id": "infrared-rolling",
   "metadata": {},
   "outputs": [],
   "source": [
    "pot = mt.ReadPot('Test/pred.pot', quiet = True)\n",
    "mt.PotsExport(pot, MDEngine = 'LAMMPS', Rmaxtable = 15.5, PHImaxtable = 180.0, \\\n",
    "                npoints = 2500, Umax = 6000.0, \\\n",
    "                interpol = True, method = 'gauss', sigma = 0.5, noplot=True, hardcopy = False, \\\n",
    "                filename = 'Test/predpotential')\n",
    "\n",
    "#write the potential to a LAMMPS file"
   ]
  },
  {
   "cell_type": "markdown",
   "id": "digital-mystery",
   "metadata": {},
   "source": [
    "## Comparing RDFs\n",
    "\n",
    "Simualtion was run using the network predicted potential, and RDF was calcaulted from this simulation.\n",
    "This RDF was then compared to the RDF from the intial simulation\n",
    "\n",
    "All the files needed for this simulation are in the Test folder"
   ]
  },
  {
   "cell_type": "code",
   "execution_count": null,
   "id": "assigned-action",
   "metadata": {},
   "outputs": [],
   "source": [
    "os.system('lmp -in pred.in')\n",
    "os.system('rdf.py -i pred.inp')\n",
    "\n",
    "#run the simulation then calculate RDF"
   ]
  },
  {
   "cell_type": "code",
   "execution_count": 2,
   "id": "choice-charles",
   "metadata": {},
   "outputs": [],
   "source": [
    "testrdf = mt.ReadRDF('Test/pred.rdf', quiet = True)\n",
    "truerdf = mt.ReadRDF('Setup/NaNa.rdf', quiet = True)\n",
    "\n",
    "#load in the RDF from the initial simulation and the RDF from the simulation using the predicted potential"
   ]
  },
  {
   "cell_type": "code",
   "execution_count": 6,
   "id": "adopted-variety",
   "metadata": {},
   "outputs": [],
   "source": [
    "x = rvalues\n",
    "for i in range(2):\n",
    "    \n",
    "    if i == 0:\n",
    "        obj = testrdf.DFs[0]\n",
    "    if i == 1:\n",
    "        obj = truerdf.DFs[0]\n",
    "    N = 1\n",
    "    \n",
    "    for j in range(N):\n",
    "        holder = np.empty((300))\n",
    "        startindex = np.where(x == round(obj.x[0], 3))[0][0]\n",
    "        for k in range(300):\n",
    "            if k < startindex:\n",
    "                holder[k] = 0\n",
    "            elif k >= startindex and k-startindex < len(obj.x):\n",
    "                holder[k] = obj.y[k-startindex]\n",
    "            else:\n",
    "                holder[k] = 0\n",
    "        \n",
    "    if i == 0:\n",
    "        test = holder\n",
    "        \n",
    "    if i == 1:\n",
    "        true = holder\n",
    "        \n",
    "#read in and format the two RDFs, the RDF from the initial simulation\n",
    "#and the RDF from the simulation with the predicted potentials"
   ]
  },
  {
   "cell_type": "code",
   "execution_count": 7,
   "id": "latter-perception",
   "metadata": {},
   "outputs": [
    {
     "data": {
      "image/png": "[encoded data removed]",
      "text/plain": [
       "<Figure size 432x288 with 1 Axes>"
      ]
     },
     "metadata": {
      "needs_background": "light"
     },
     "output_type": "display_data"
    }
   ],
   "source": [
    "plt.plot(x, test, label = 'Pred')\n",
    "plt.plot(x, true, label = 'True')\n",
    "\n",
    "plt.legend()\n",
    "\n",
    "plt.xlabel('r $\\AA$')\n",
    "plt.ylabel('RDF')\n",
    "plt.title('RDFs')\n",
    "\n",
    "plt.savefig('rdfs.png')\n",
    "\n",
    "#plot the two RDFs"
   ]
  },
  {
   "cell_type": "code",
   "execution_count": null,
   "id": "olympic-primary",
   "metadata": {},
   "outputs": [],
   "source": []
  }
 ],
 "metadata": {
  "kernelspec": {
   "display_name": "Python 3",
   "language": "python",
   "name": "python3"
  },
  "language_info": {
   "codemirror_mode": {
    "name": "ipython",
    "version": 3
   },
   "file_extension": ".py",
   "mimetype": "text/x-python",
   "name": "python",
   "nbconvert_exporter": "python",
   "pygments_lexer": "ipython3",
   "version": "3.8.3"
  }
 },
 "nbformat": 4,
 "nbformat_minor": 5
}
