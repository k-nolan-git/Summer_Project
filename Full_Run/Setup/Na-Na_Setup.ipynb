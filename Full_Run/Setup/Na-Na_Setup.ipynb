{
 "cells": [
  {
   "cell_type": "markdown",
   "id": "ranking-appeal",
   "metadata": {},
   "source": [
    "## Importing Libraries"
   ]
  },
  {
   "cell_type": "code",
   "execution_count": 7,
   "id": "funky-coral",
   "metadata": {},
   "outputs": [],
   "source": [
    "import MagicTools as mt\n",
    "\n",
    "import os"
   ]
  },
  {
   "cell_type": "markdown",
   "id": "vocational-liver",
   "metadata": {},
   "source": [
    "NaNa.pot is a MagiC potential file taken from the first MagiC tutorial (NaCl), and contains the potential used in the\n",
    "initial simulation.\n",
    "\n",
    "Usually this would be a atomistic similation which would then need to have its trajectory coarse grained, but for the purposes of measuring performance the goal of this example will be to recreate the initially used potential"
   ]
  },
  {
   "cell_type": "code",
   "execution_count": 8,
   "id": "alternative-cologne",
   "metadata": {},
   "outputs": [],
   "source": [
    "target_potential = mt.ReadPot('NaNa.pot', quiet= True)\n",
    "mt.PotsExport(target_potential, MDEngine = 'LAMMPS', Rmaxtable = 15.5, PHImaxtable = 180.0, \\\n",
    "                          npoints = 2500, Umax = 6000.0, \\\n",
    "                          interpol = True, method = 'gauss', sigma = 0.5, noplot=True, hardcopy = False, \\\n",
    "                          filename = 'target_potential')"
   ]
  },
  {
   "cell_type": "code",
   "execution_count": null,
   "id": "obvious-sponsorship",
   "metadata": {},
   "outputs": [],
   "source": [
    "os.system('lmp -in NaNa.in')\n",
    "# This runs the LAMMPS simulation"
   ]
  },
  {
   "cell_type": "code",
   "execution_count": null,
   "id": "liberal-framework",
   "metadata": {},
   "outputs": [],
   "source": [
    "os.system('rdf.py -i NaNa.inp')\n",
    "# This generates the RDF from the LAMMPS trajectory"
   ]
  }
 ],
 "metadata": {
  "kernelspec": {
   "display_name": "Python 3",
   "language": "python",
   "name": "python3"
  },
  "language_info": {
   "codemirror_mode": {
    "name": "ipython",
    "version": 3
   },
   "file_extension": ".py",
   "mimetype": "text/x-python",
   "name": "python",
   "nbconvert_exporter": "python",
   "pygments_lexer": "ipython3",
   "version": "3.8.3"
  }
 },
 "nbformat": 4,
 "nbformat_minor": 5
}
