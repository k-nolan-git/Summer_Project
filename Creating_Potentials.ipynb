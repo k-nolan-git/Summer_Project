{
 "cells": [
  {
   "cell_type": "markdown",
   "id": "suited-programming",
   "metadata": {},
   "source": [
    "This notebook will create sets of potentials to run simulations with.\n",
    "\n",
    "## Importing Libraries"
   ]
  },
  {
   "cell_type": "code",
   "execution_count": 1,
   "id": "infinite-lightning",
   "metadata": {},
   "outputs": [],
   "source": [
    "import numpy as np\n",
    "import matplotlib.pyplot as plt\n",
    "import random\n",
    "import MagicTools as mt\n",
    "import itertools as it\n",
    "from scipy.signal import savgol_filter\n",
    "import string"
   ]
  },
  {
   "cell_type": "markdown",
   "id": "patent-requirement",
   "metadata": {},
   "source": [
    "## Creating the Potentials\n",
    "\n",
    "Each potential will be a numpy array consisting of 300 points.\n",
    "\n",
    "In order to be physical, for short distances (small r) the value of the potential needs to be very high (forbidden region), and need to go to zero for large r."
   ]
  },
  {
   "cell_type": "code",
   "execution_count": 2,
   "id": "three-springer",
   "metadata": {},
   "outputs": [],
   "source": [
    "random.seed(1)"
   ]
  },
  {
   "cell_type": "code",
   "execution_count": 3,
   "id": "hungry-lemon",
   "metadata": {},
   "outputs": [],
   "source": [
    "def getforbid(N, mean, SD):\n",
    "    forbid = random.gauss(mean, SD)\n",
    "    forbid = int(round(forbid, 0))\n",
    "    if forbid > 0 and forbid < N:\n",
    "        return forbid\n",
    "    else:\n",
    "        return getforbid(N, mean, SD)\n",
    "        \n",
    "#this function generates the size of the forbidden reason randomly for a potential of length N,\n",
    "#according to a gaussian distribution centred at mean with s.d. SD\n",
    "#output cannot be negative or larger than N"
   ]
  },
  {
   "cell_type": "code",
   "execution_count": 27,
   "id": "smaller-cooperation",
   "metadata": {},
   "outputs": [],
   "source": [
    "def create_potential(N, mean, SD):\n",
    "    pot = np.zeros(N)\n",
    "    forbid = getforbid(N, mean, SD)\n",
    "    \n",
    "    for i in range(forbid):\n",
    "        pot[i] = 75000 - 50*i\n",
    "\n",
    "    non_forbid = np.zeros(N - forbid)\n",
    "    non_forbid[0] = random.gauss(0, 2.5)\n",
    "    i = 1\n",
    "    while i < len(non_forbid):\n",
    "        non_forbid[i] = non_forbid[i - 1] + random.random() * random.gauss(0, 1)\n",
    "        i = i + 1\n",
    "\n",
    "    non_forbid_smooth = savgol_filter(non_forbid, 31, 3)\n",
    "    \n",
    "    while max(non_forbid_smooth) - min(non_forbid_smooth) > 15:\n",
    "        non_forbid_smooth = 0.9*non_forbid_smooth\n",
    "    \n",
    "    for i in range(len(non_forbid_smooth)):\n",
    "        pot[forbid + i] = non_forbid_smooth[i]\n",
    "\n",
    "    shift = pot[len(pot) - 1]\n",
    "    pot = pot - shift\n",
    "    if shift > 10:\n",
    "        pot = pot * 0.5\n",
    "    \n",
    "    return pot\n",
    "\n",
    "#this function creates a random potential of length N\n",
    "#forbidden region size determined by Gaussian with mean mean and standard deviation SD\n",
    "#the potential is smoothed using a savgol filter"
   ]
  },
  {
   "cell_type": "code",
   "execution_count": 28,
   "id": "funny-fetish",
   "metadata": {},
   "outputs": [],
   "source": [
    "potentials = []\n",
    "while len(potentials) < 100000:\n",
    "    pot = create_potential(300, 60, 25)\n",
    "    potentials.append(pot)\n",
    "    \n",
    "#potentials is a list where each object in the list is a numpy array containing 300 values representing a potential"
   ]
  },
  {
   "cell_type": "markdown",
   "id": "modern-wealth",
   "metadata": {},
   "source": [
    "## Writing Potentials to LAMMPS Files"
   ]
  },
  {
   "cell_type": "markdown",
   "id": "demonstrated-surgery",
   "metadata": {},
   "source": [
    "Using MagicTools:"
   ]
  },
  {
   "cell_type": "code",
   "execution_count": 6,
   "id": "biblical-collect",
   "metadata": {},
   "outputs": [],
   "source": [
    "alphabet_list = list(string.ascii_uppercase)\n",
    "all_atoms_seperate = list(it.product(alphabet_list, repeat = 2))\n",
    "all_atoms = []\n",
    "for i in range(len(all_atoms_seperate)):\n",
    "    atom = all_atoms_seperate[i][0] + all_atoms_seperate[i][1]\n",
    "    all_atoms.append(atom)\n",
    "    \n",
    "#all_atoms is a list which contains all possible two letter combinations, which is the list which will be used\n",
    "#for the bead names"
   ]
  },
  {
   "cell_type": "code",
   "execution_count": 7,
   "id": "stock-arabic",
   "metadata": {},
   "outputs": [],
   "source": [
    "def write_potential(filename, n):\n",
    "    N = int(n)\n",
    "    N_NB = int(N*(N+1)/2) #number of non-bonded interactions\n",
    "    N_B = int(0) #number of bonded interactions\n",
    "    N_A = int(0) #number of angle interactions\n",
    "\n",
    "    Min = 0  \n",
    "    Max = 15 #range of r for potentials\n",
    "\n",
    "    NPoints = int(300) #Number of points in each potential\n",
    "\n",
    "    stepsize = (Max-Min)/NPoints #the distance between points\n",
    "    rvalues = np.linspace(Min + stepsize/2, Max - stepsize/2, NPoints) #an array containg the r values\n",
    "\n",
    "    AtomList = []\n",
    "    for i in range(N):\n",
    "        AtomList.append(all_atoms[i])\n",
    "        \n",
    "    AtomPairs = list(it.combinations_with_replacement(AtomList, r = 2)) #all possible atoms pairs, no repeats\n",
    "    \n",
    "    \n",
    "    \n",
    "    general_section = \" &General \\n\" + \" NTypes= {} \\n\".format(N) + \" N_NB= {} \\n\".format(N_NB) + \\\n",
    "    \" N_B= {} \\n\".format(N_B) + \" N_A= {} \\n\".format(N_A)+ \" Min= {} \\n\".format(Min) + \" Max= {} \\n\".format(Max) + \\\n",
    "    \" NPoints= {} \\n\".format(NPoints) + \" &EndGeneral \\n\"\n",
    "    \n",
    "    potential_section = ''\n",
    "    for i in range(len(AtomPairs)):\n",
    "        single_pot = potentials[random.randint(0, len(potentials)-1)]\n",
    "        header_section = \" &Potential \\n\" + \" Name= {}-{} \\n\".format(AtomPairs[i][0], AtomPairs[i][1]) + \\\n",
    "        \" Type = NB \\n\" \\\n",
    "        + \" Min= {} \\n\".format(Min) + \" Max= {} \\n\".format(Max) + \" NPoints= {} \\n\".format(NPoints) + \\\n",
    "        \" AtomTypes= {},{} \\n\".format(AtomPairs[i][0], AtomPairs[i][1])\n",
    "        \n",
    "        table_section = ' &Table \\n'\n",
    "        for j in range(NPoints):\n",
    "            rval = format(rvalues[j], '.7f')\n",
    "            potval = format(single_pot[j], '.7f')\n",
    "            table_section = table_section + \"     \" + str(rval) + \"  \" + str(potval) + \" \\n\"\n",
    "            \n",
    "        table_section = table_section + \" &EndTable \\n\" + \" &EndPotential \\n\"\n",
    "        \n",
    "        potential_section = potential_section + header_section + table_section\n",
    "        \n",
    "    potfile = open('{}.pot'.format(filename), 'w')\n",
    "    potfile.write(general_section)\n",
    "    potfile.write(potential_section)\n",
    "    potfile.close()\n",
    "    \n",
    "#write potentials is a function which writes a magic potential file\n",
    "#the first argument is the filename, output will be <filename.pot>\n",
    "#the second argument (N) is th number of bead types\n",
    "#the potentials are randomly selected from the list potentials"
   ]
  },
  {
   "cell_type": "code",
   "execution_count": 8,
   "id": "chief-validity",
   "metadata": {},
   "outputs": [],
   "source": [
    "def create_files(BeadRange, number):\n",
    "    for BeadNumber in range(1, BeadRange+1):\n",
    "        for j in range(number):\n",
    "            write_potential('MagiC_Potentials/{}beadpotential{}'.format(BeadNumber, j), BeadNumber)\n",
    "            pot = mt.ReadPot('MagiC_Potentials/{}beadpotential{}.pot'.format(BeadNumber, j), quiet = True)\n",
    "            mt.PotsExport(pot, MDEngine = 'LAMMPS', Rmaxtable = 15.5, PHImaxtable = 180.0, \\\n",
    "                          npoints = 2500, Umax = 6000.0, \\\n",
    "                          interpol = True, method = 'gauss', sigma = 0.5, noplot=True, hardcopy = False, \\\n",
    "                          filename = 'LAMMPS_Potentials/{}beadpotential{}'.format(BeadNumber, j))\n",
    "\n",
    "#this function creates magic and LAMMPS potential files for 1, 2, ..., BeadRange number of beads\n",
    "#the second argument determines how many files are created for each bead number"
   ]
  },
  {
   "cell_type": "code",
   "execution_count": 9,
   "id": "sacred-aluminum",
   "metadata": {},
   "outputs": [],
   "source": [
    "create_files(10, 10)"
   ]
  },
  {
   "cell_type": "code",
   "execution_count": 10,
   "id": "random-crown",
   "metadata": {},
   "outputs": [],
   "source": [
    "create_files(2, 2)"
   ]
  },
  {
   "cell_type": "code",
   "execution_count": 11,
   "id": "opening-valley",
   "metadata": {},
   "outputs": [],
   "source": [
    "#pot = mt.ReadPot('MagiC_Potentials/1beadpotential3.pot', quiet = True)\n",
    "#mt.PotsExport(pot, MDEngine = 'LAMMPS', Rmaxtable = 15.5, PHImaxtable = 180.0, \\\n",
    "#                          npoints = 2500, Umax = 6000.0, \\\n",
    "#                          interpol = True, method = 'gauss', sigma = 0.5, noplot=True, hardcopy = False, \\\n",
    "#                          filename = '1bead')"
   ]
  },
  {
   "cell_type": "code",
   "execution_count": 12,
   "id": "thick-departure",
   "metadata": {},
   "outputs": [
    {
     "name": "stdout",
     "output_type": "stream",
     "text": [
      "[ 0.          0.05016722  0.10033445  0.15050167  0.2006689   0.25083612\n",
      "  0.30100334  0.35117057  0.40133779  0.45150502  0.50167224  0.55183946\n",
      "  0.60200669  0.65217391  0.70234114  0.75250836  0.80267559  0.85284281\n",
      "  0.90301003  0.95317726  1.00334448  1.05351171  1.10367893  1.15384615\n",
      "  1.20401338  1.2541806   1.30434783  1.35451505  1.40468227  1.4548495\n",
      "  1.50501672  1.55518395  1.60535117  1.65551839  1.70568562  1.75585284\n",
      "  1.80602007  1.85618729  1.90635452  1.95652174  2.00668896  2.05685619\n",
      "  2.10702341  2.15719064  2.20735786  2.25752508  2.30769231  2.35785953\n",
      "  2.40802676  2.45819398  2.5083612   2.55852843  2.60869565  2.65886288\n",
      "  2.7090301   2.75919732  2.80936455  2.85953177  2.909699    2.95986622\n",
      "  3.01003344  3.06020067  3.11036789  3.16053512  3.21070234  3.26086957\n",
      "  3.31103679  3.36120401  3.41137124  3.46153846  3.51170569  3.56187291\n",
      "  3.61204013  3.66220736  3.71237458  3.76254181  3.81270903  3.86287625\n",
      "  3.91304348  3.9632107   4.01337793  4.06354515  4.11371237  4.1638796\n",
      "  4.21404682  4.26421405  4.31438127  4.36454849  4.41471572  4.46488294\n",
      "  4.51505017  4.56521739  4.61538462  4.66555184  4.71571906  4.76588629\n",
      "  4.81605351  4.86622074  4.91638796  4.96655518  5.01672241  5.06688963\n",
      "  5.11705686  5.16722408  5.2173913   5.26755853  5.31772575  5.36789298\n",
      "  5.4180602   5.46822742  5.51839465  5.56856187  5.6187291   5.66889632\n",
      "  5.71906355  5.76923077  5.81939799  5.86956522  5.91973244  5.96989967\n",
      "  6.02006689  6.07023411  6.12040134  6.17056856  6.22073579  6.27090301\n",
      "  6.32107023  6.37123746  6.42140468  6.47157191  6.52173913  6.57190635\n",
      "  6.62207358  6.6722408   6.72240803  6.77257525  6.82274247  6.8729097\n",
      "  6.92307692  6.97324415  7.02341137  7.0735786   7.12374582  7.17391304\n",
      "  7.22408027  7.27424749  7.32441472  7.37458194  7.42474916  7.47491639\n",
      "  7.52508361  7.57525084  7.62541806  7.67558528  7.72575251  7.77591973\n",
      "  7.82608696  7.87625418  7.9264214   7.97658863  8.02675585  8.07692308\n",
      "  8.1270903   8.17725753  8.22742475  8.27759197  8.3277592   8.37792642\n",
      "  8.42809365  8.47826087  8.52842809  8.57859532  8.62876254  8.67892977\n",
      "  8.72909699  8.77926421  8.82943144  8.87959866  8.92976589  8.97993311\n",
      "  9.03010033  9.08026756  9.13043478  9.18060201  9.23076923  9.28093645\n",
      "  9.33110368  9.3812709   9.43143813  9.48160535  9.53177258  9.5819398\n",
      "  9.63210702  9.68227425  9.73244147  9.7826087   9.83277592  9.88294314\n",
      "  9.93311037  9.98327759 10.03344482 10.08361204 10.13377926 10.18394649\n",
      " 10.23411371 10.28428094 10.33444816 10.38461538 10.43478261 10.48494983\n",
      " 10.53511706 10.58528428 10.63545151 10.68561873 10.73578595 10.78595318\n",
      " 10.8361204  10.88628763 10.93645485 10.98662207 11.0367893  11.08695652\n",
      " 11.13712375 11.18729097 11.23745819 11.28762542 11.33779264 11.38795987\n",
      " 11.43812709 11.48829431 11.53846154 11.58862876 11.63879599 11.68896321\n",
      " 11.73913043 11.78929766 11.83946488 11.88963211 11.93979933 11.98996656\n",
      " 12.04013378 12.090301   12.14046823 12.19063545 12.24080268 12.2909699\n",
      " 12.34113712 12.39130435 12.44147157 12.4916388  12.54180602 12.59197324\n",
      " 12.64214047 12.69230769 12.74247492 12.79264214 12.84280936 12.89297659\n",
      " 12.94314381 12.99331104 13.04347826 13.09364548 13.14381271 13.19397993\n",
      " 13.24414716 13.29431438 13.34448161 13.39464883 13.44481605 13.49498328\n",
      " 13.5451505  13.59531773 13.64548495 13.69565217 13.7458194  13.79598662\n",
      " 13.84615385 13.89632107 13.94648829 13.99665552 14.04682274 14.09698997\n",
      " 14.14715719 14.19732441 14.24749164 14.29765886 14.34782609 14.39799331\n",
      " 14.44816054 14.49832776 14.54849498 14.59866221 14.64882943 14.69899666\n",
      " 14.74916388 14.7993311  14.84949833 14.89966555 14.94983278 15.        ]\n"
     ]
    }
   ],
   "source": [
    "x = np.linspace(0,15,300)\n",
    "print(x)"
   ]
  },
  {
   "cell_type": "code",
   "execution_count": 33,
   "id": "sitting-summary",
   "metadata": {},
   "outputs": [
    {
     "data": {
      "text/plain": [
       "(-30.0, 30.0)"
      ]
     },
     "execution_count": 33,
     "metadata": {},
     "output_type": "execute_result"
    },
    {
     "data": {
      "image/png": "[encoded data removed]",
      "text/plain": [
       "<Figure size 432x288 with 1 Axes>"
      ]
     },
     "metadata": {
      "needs_background": "light"
     },
     "output_type": "display_data"
    }
   ],
   "source": [
    "for i in range(5):\n",
    "    plt.plot(x, potentials[random.randint(0,len(potentials))])\n",
    "\n",
    "plt.ylim(-30,30)"
   ]
  },
  {
   "cell_type": "code",
   "execution_count": 22,
   "id": "noble-pointer",
   "metadata": {},
   "outputs": [],
   "source": [
    "N = 300\n",
    "pot = [1]\n",
    "\n",
    "pot3 = np.zeros(300)\n",
    "pot5 = np.zeros(300)\n",
    "pot7 = np.zeros(300)\n",
    "forbid = getforbid(300, 60, 25)\n",
    "    \n",
    "for i in range(forbid):\n",
    "    pot3[i] = 75000 - 50*i\n",
    "    pot5[i] = 75000 - 50*i\n",
    "    pot7[i] = 75000 - 50*i\n",
    "\n",
    "non_forbid = np.zeros(N - forbid)\n",
    "non_forbid[0] = random.gauss(0, 2.5)\n",
    "i = 1\n",
    "while i < len(non_forbid):\n",
    "    non_forbid[i] = non_forbid[i - 1] + random.random() * random.gauss(0, 1)\n",
    "    i = i + 1\n",
    "\n",
    "non_forbid_smooth3 = savgol_filter(non_forbid, 3, 2)\n",
    "non_forbid_smooth5 = savgol_filter(non_forbid, 5, 2)\n",
    "non_forbid_smooth7 = savgol_filter(non_forbid, 7, 2)\n",
    "    \n",
    "while max(non_forbid_smooth3) - min(non_forbid_smooth3) > 15:\n",
    "    non_forbid_smooth3 = 0.9*non_forbid_smooth3\n",
    "    \n",
    "while max(non_forbid_smooth5) - min(non_forbid_smooth5) > 15:\n",
    "    non_forbid_smooth5 = 0.9*non_forbid_smooth5\n",
    "    \n",
    "while max(non_forbid_smooth7) - min(non_forbid_smooth7) > 15:\n",
    "    non_forbid_smooth7 = 0.9*non_forbid_smooth7\n",
    "    \n",
    "for i in range(len(non_forbid_smooth3)):\n",
    "    pot3[forbid + i] = non_forbid_smooth3[i]\n",
    "    pot5[forbid + i] = non_forbid_smooth5[i]\n",
    "    pot7[forbid + i] = non_forbid_smooth7[i]\n",
    "\n",
    "#shift = pot[len(pot) - 1]\n",
    "#pot = pot - shift\n",
    "#if shift > 10:\n",
    "#    pot = pot * 0.5\n",
    "    \n",
    "\n",
    "\n",
    "#this function creates a random potential of length N\n",
    "#forbidden region size determined by Gaussian with mean mean and standard deviation SD\n",
    "#the potential is smoothed using a savgol filter"
   ]
  },
  {
   "cell_type": "code",
   "execution_count": 24,
   "id": "atmospheric-ending",
   "metadata": {},
   "outputs": [
    {
     "data": {
      "text/plain": [
       "(-5.0, 5.0)"
      ]
     },
     "execution_count": 24,
     "metadata": {},
     "output_type": "execute_result"
    },
    {
     "data": {
      "image/png": "[encoded data removed]",
      "text/plain": [
       "<Figure size 432x288 with 1 Axes>"
      ]
     },
     "metadata": {
      "needs_background": "light"
     },
     "output_type": "display_data"
    }
   ],
   "source": [
    "plt.plot(x, pot3, label = '3')\n",
    "plt.plot(x, pot5, label = '5')\n",
    "plt.plot(x, pot7, label = '7')\n",
    "plt.legend()\n",
    "plt.ylim(-5,5)"
   ]
  },
  {
   "cell_type": "code",
   "execution_count": null,
   "id": "maritime-martial",
   "metadata": {},
   "outputs": [],
   "source": []
  }
 ],
 "metadata": {
  "kernelspec": {
   "display_name": "Python 3",
   "language": "python",
   "name": "python3"
  },
  "language_info": {
   "codemirror_mode": {
    "name": "ipython",
    "version": 3
   },
   "file_extension": ".py",
   "mimetype": "text/x-python",
   "name": "python",
   "nbconvert_exporter": "python",
   "pygments_lexer": "ipython3",
   "version": "3.8.3"
  }
 },
 "nbformat": 4,
 "nbformat_minor": 5
}
