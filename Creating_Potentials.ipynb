{
 "cells": [
  {
   "cell_type": "markdown",
   "id": "suited-programming",
   "metadata": {},
   "source": [
    "This notebook will create sets of potentials to run simulations with.\n",
    "\n",
    "## Importing Libraries"
   ]
  },
  {
   "cell_type": "code",
   "execution_count": 1,
   "id": "infinite-lightning",
   "metadata": {},
   "outputs": [],
   "source": [
    "import numpy as np\n",
    "import matplotlib.pyplot as plt\n",
    "import pandas as pd\n",
    "import random\n",
    "import MagicTools as mt\n",
    "import itertools as it\n",
    "from scipy.signal import savgol_filter\n",
    "import string\n",
    "from lammps import lammps\n",
    "lmp = lammps()"
   ]
  },
  {
   "cell_type": "markdown",
   "id": "patent-requirement",
   "metadata": {},
   "source": [
    "## Creating the Potentials\n",
    "\n",
    "Each potential will be a numpy array consisting of 300 points.\n",
    "\n",
    "In order to be physical, for short distances (small r) the value of the potential needs to be very high (forbidden region), and need to go to zero for large r."
   ]
  },
  {
   "cell_type": "code",
   "execution_count": 2,
   "id": "three-springer",
   "metadata": {},
   "outputs": [],
   "source": [
    "random.seed(1)"
   ]
  },
  {
   "cell_type": "code",
   "execution_count": 3,
   "id": "hungry-lemon",
   "metadata": {},
   "outputs": [],
   "source": [
    "def getforbid(N, mean, SD):\n",
    "    forbid = random.gauss(mean, SD)\n",
    "    forbid = int(round(forbid, 0))\n",
    "    if forbid > 0 and forbid < N:\n",
    "        return forbid\n",
    "    else:\n",
    "        return getforbid(N, mean, SD)\n",
    "        \n",
    "#this function generates the size of the forbidden reason randomly for a potential of length N,\n",
    "#according to a gaussian distribution centred at mean with s.d. SD\n",
    "#output cannot be negative or larger than N"
   ]
  },
  {
   "cell_type": "code",
   "execution_count": 4,
   "id": "smaller-cooperation",
   "metadata": {},
   "outputs": [],
   "source": [
    "def create_potential(N, mean, SD):\n",
    "    pot = np.zeros(N)\n",
    "    forbid = getforbid(N, mean, SD)\n",
    "    \n",
    "    for i in range(forbid):\n",
    "        pot[i] = 75000 - 50*i\n",
    "\n",
    "    non_forbid = np.zeros(N - forbid)\n",
    "    non_forbid[0] = random.gauss(0, 3.5)\n",
    "    i = 1\n",
    "    while i < len(non_forbid):\n",
    "        non_forbid[i] = non_forbid[i - 1] + random.random() * random.gauss(0, 2)\n",
    "        i = i + 1\n",
    "\n",
    "    non_forbid_smooth = savgol_filter(non_forbid, 15, 3)\n",
    "\n",
    "    for i in range(len(non_forbid_smooth)):\n",
    "        pot[forbid + i] = non_forbid_smooth[i]\n",
    "\n",
    "    shift = pot[len(pot) - 1]\n",
    "    pot = pot - shift\n",
    "    \n",
    "    return pot\n",
    "\n",
    "#this function creates a random potential of length N\n",
    "#forbidden region size determined by Gaussian with mean mean and standard deviation SD\n",
    "#the potential is smoothed using a savgol filter"
   ]
  },
  {
   "cell_type": "code",
   "execution_count": 5,
   "id": "funny-fetish",
   "metadata": {},
   "outputs": [],
   "source": [
    "potentials = []\n",
    "while len(potentials) < 10000:\n",
    "    pot = create_potential(300, 60, 25)\n",
    "    potentials.append(pot)\n",
    "    \n",
    "#potentials is a list where each object in the list is a numpy array containing 300 values representing a potential"
   ]
  },
  {
   "cell_type": "markdown",
   "id": "modern-wealth",
   "metadata": {},
   "source": [
    "## Writing Potentials to LAMMPS Files"
   ]
  },
  {
   "cell_type": "markdown",
   "id": "demonstrated-surgery",
   "metadata": {},
   "source": [
    "Using MagicTools:"
   ]
  },
  {
   "cell_type": "code",
   "execution_count": 6,
   "id": "biblical-collect",
   "metadata": {},
   "outputs": [],
   "source": [
    "alphabet_list = list(string.ascii_uppercase)\n",
    "all_atoms_seperate = list(it.product(alphabet_list, repeat = 2))\n",
    "all_atoms = []\n",
    "for i in range(len(all_atoms_seperate)):\n",
    "    atom = all_atoms_seperate[i][0] + all_atoms_seperate[i][1]\n",
    "    all_atoms.append(atom)\n",
    "    \n",
    "#all_atoms is a list which contains all possible two letter combinations, which is the list which will be used\n",
    "#for the bead names"
   ]
  },
  {
   "cell_type": "code",
   "execution_count": null,
   "id": "sound-coach",
   "metadata": {},
   "outputs": [],
   "source": []
  },
  {
   "cell_type": "code",
   "execution_count": 7,
   "id": "stock-arabic",
   "metadata": {},
   "outputs": [],
   "source": [
    "def write_potential(filename, n):\n",
    "    N = int(n)\n",
    "    N_NB = int(N*(N+1)/2) #number of non-bonded interactions\n",
    "    N_B = int(0) #number of bonded interactions\n",
    "    N_A = int(0) #number of angle interactions\n",
    "\n",
    "    Min = 0  \n",
    "    Max = 15 #range of r for potentials\n",
    "\n",
    "    NPoints = int(300) #Number of points in each potential\n",
    "\n",
    "    stepsize = (Max-Min)/NPoints #the distance between points\n",
    "    rvalues = np.linspace(Min + stepsize/2, Max - stepsize/2, NPoints) #an array containg the r values\n",
    "\n",
    "    AtomList = []\n",
    "    for i in range(N):\n",
    "        AtomList.append(all_atoms[i])\n",
    "        \n",
    "    AtomPairs = list(it.combinations_with_replacement(AtomList, r = 2)) #all possible atoms pairs, no repeats\n",
    "    \n",
    "    \n",
    "    \n",
    "    general_section = \" &General \\n\" + \" NTypes= {} \\n\".format(N) + \" N_NB= {} \\n\".format(N_NB) + \\\n",
    "    \" N_B= {} \\n\".format(N_B) + \" N_A= {} \\n\".format(N_A)+ \" Min= {} \\n\".format(Min) + \" Max= {} \\n\".format(Max) + \\\n",
    "    \" NPoints= {} \\n\".format(NPoints) + \" &EndGeneral \\n\"\n",
    "    \n",
    "    potential_section = ''\n",
    "    for i in range(len(AtomPairs)):\n",
    "        single_pot = potentials[random.randint(0, len(potentials)-1)]\n",
    "        header_section = \" &Potential \\n\" + \" Name= {}-{} \\n\".format(AtomPairs[i][0], AtomPairs[i][1]) + \\\n",
    "        \" Type = NB \\n\" \\\n",
    "        + \" Min= {} \\n\".format(Min) + \" Max= {} \\n\".format(Max) + \" NPoints= {} \\n\".format(NPoints) + \\\n",
    "        \" AtomTypes= {},{} \\n\".format(AtomPairs[i][0], AtomPairs[i][1])\n",
    "        \n",
    "        table_section = ' &Table \\n'\n",
    "        for j in range(NPoints):\n",
    "            rval = format(rvalues[j], '.7f')\n",
    "            potval = format(single_pot[j], '.7f')\n",
    "            table_section = table_section + \"     \" + str(rval) + \"  \" + str(potval) + \" \\n\"\n",
    "        table_section = table_section + \" &EndTable \\n\" + \" &EndPotential \\n\"\n",
    "        \n",
    "        potential_section = potential_section + header_section + table_section\n",
    "        \n",
    "    potfile = open('{}.pot'.format(filename), 'w')\n",
    "    potfile.write(general_section)\n",
    "    potfile.write(potential_section)\n",
    "    potfile.close()\n",
    "    \n",
    "#write potentials is a function which writes a magic potential file\n",
    "#the first argument is the filename, output will be <filename.pot>\n",
    "#the second argument (N) is th number of bead types\n",
    "#the potentials are randomly selected from the list potentials"
   ]
  },
  {
   "cell_type": "code",
   "execution_count": 10,
   "id": "chief-validity",
   "metadata": {},
   "outputs": [],
   "source": [
    "def create_files(BeadRange, number):\n",
    "    for BeadNumber in range(1, BeadRange+1):\n",
    "        for j in range(number):\n",
    "            write_potential('MagiC_Potentials/{}beadpotential{}'.format(BeadNumber, j), BeadNumber)\n",
    "            pot = mt.ReadPot('MagiC_Potentials/{}beadpotential{}.pot'.format(BeadNumber, j), quiet = True)\n",
    "            mt.PotsExport(pot, MDEngine = 'LAMMPS', Rmaxtable = 15.5, PHImaxtable = 180.0, \\\n",
    "                          npoints = 2500, Umax = 6000.0, \\\n",
    "                          interpol = True, method = 'gauss', sigma = 0.5, noplot=True, hardcopy = False, \\\n",
    "                          filename = 'LAMMPS_Potentials/{}beadpotential{}'.format(BeadNumber, j))\n",
    "\n",
    "#this function creates magic and LAMMPS potential files for 1, 2, ..., BeadRange number of beads\n",
    "#the second argument determines how many files are created for each bead number"
   ]
  },
  {
   "cell_type": "code",
   "execution_count": 14,
   "id": "sacred-aluminum",
   "metadata": {},
   "outputs": [],
   "source": [
    "create_files(10, 10)"
   ]
  },
  {
   "cell_type": "code",
   "execution_count": 13,
   "id": "ordered-agreement",
   "metadata": {},
   "outputs": [],
   "source": [
    "pot = mt.ReadPot('MagiC_Potentials/1beadpotential3.pot', quiet = True)\n",
    "mt.PotsExport(pot, MDEngine = 'LAMMPS', Rmaxtable = 15.5, PHImaxtable = 180.0, \\\n",
    "                          npoints = 2500, Umax = 6000.0, \\\n",
    "                          interpol = True, method = 'gauss', sigma = 0.5, noplot=True, hardcopy = False, \\\n",
    "                          filename = '1bead')"
   ]
  },
  {
   "cell_type": "code",
   "execution_count": null,
   "id": "diverse-worcester",
   "metadata": {},
   "outputs": [],
   "source": []
  },
  {
   "cell_type": "code",
   "execution_count": null,
   "id": "thick-departure",
   "metadata": {},
   "outputs": [],
   "source": []
  }
 ],
 "metadata": {
  "kernelspec": {
   "display_name": "Python 3",
   "language": "python",
   "name": "python3"
  },
  "language_info": {
   "codemirror_mode": {
    "name": "ipython",
    "version": 3
   },
   "file_extension": ".py",
   "mimetype": "text/x-python",
   "name": "python",
   "nbconvert_exporter": "python",
   "pygments_lexer": "ipython3",
   "version": "3.8.3"
  }
 },
 "nbformat": 4,
 "nbformat_minor": 5
}
