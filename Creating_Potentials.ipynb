{
 "cells": [
  {
   "cell_type": "markdown",
   "id": "suited-programming",
   "metadata": {},
   "source": [
    "This notebook will create sets of potentials to run simulations with.\n",
    "\n",
    "## Importing Libraries"
   ]
  },
  {
   "cell_type": "code",
   "execution_count": 86,
   "id": "infinite-lightning",
   "metadata": {},
   "outputs": [],
   "source": [
    "import numpy as np\n",
    "import matplotlib.pyplot as plt\n",
    "import pandas as pd\n",
    "import random\n",
    "import MagicTools as mt\n",
    "import itertools as it"
   ]
  },
  {
   "cell_type": "markdown",
   "id": "patent-requirement",
   "metadata": {},
   "source": [
    "## Creating the Potentials\n",
    "\n",
    "Each potential will be a numpy array consisting of 300 points.\n",
    "\n",
    "In order to be physical, for short distances (small r) the value of the potential needs to be very high (forbidden region), and need to go to zero for large r."
   ]
  },
  {
   "cell_type": "code",
   "execution_count": 9,
   "id": "three-springer",
   "metadata": {},
   "outputs": [],
   "source": [
    "random.seed(1)"
   ]
  },
  {
   "cell_type": "code",
   "execution_count": 54,
   "id": "hungry-lemon",
   "metadata": {},
   "outputs": [],
   "source": [
    "def getforbid():\n",
    "    forbid = random.gauss(75, 30)\n",
    "    forbid = int(round(forbid, 0))\n",
    "    if forbid > 0 and forbid < 300:\n",
    "        return forbid\n",
    "    else:\n",
    "        return getforbid()\n",
    "        \n",
    "#this function generates the size of the forbidden reason randomly, according to a gaussian distribution\n",
    "#centred at 75\n",
    "#with s.d. 30 (cannot be negative)\n",
    "#this will determine how many of the 300 entries in the potential make up the forbidden region"
   ]
  },
  {
   "cell_type": "code",
   "execution_count": 51,
   "id": "medium-senate",
   "metadata": {},
   "outputs": [
    {
     "name": "stdout",
     "output_type": "stream",
     "text": [
      "0.0\n"
     ]
    },
    {
     "data": {
      "text/plain": [
       "(-30.0, 30.0)"
      ]
     },
     "execution_count": 51,
     "metadata": {},
     "output_type": "execute_result"
    },
    {
     "data": {
      "image/png": "[encoded data removed]",
      "text/plain": [
       "<Figure size 432x288 with 1 Axes>"
      ]
     },
     "metadata": {
      "needs_background": "light"
     },
     "output_type": "display_data"
    }
   ],
   "source": [
    "pot = np.zeros(300)\n",
    "forbid = getforbid()\n",
    "for i in range(forbid):\n",
    "    pot[i] = 75000 - 50*i\n",
    "\n",
    "pot[forbid] = random.gauss(0, 7.5)\n",
    "i = forbid + 1\n",
    "while i < len(pot):\n",
    "    pot[i] = pot[i - 1] + random.random() * random.gauss(0, 2)\n",
    "    i = i + 1\n",
    "\n",
    "    \n",
    "shift = pot[len(pot) - 1]\n",
    "pot = pot - shift\n",
    "\n",
    "print(pot[299])\n",
    "\n",
    "x = np.linspace(0,300, 300)\n",
    "plt.plot(x, pot)\n",
    "plt.ylim(-30,30)"
   ]
  },
  {
   "cell_type": "code",
   "execution_count": 58,
   "id": "funny-fetish",
   "metadata": {},
   "outputs": [],
   "source": [
    "potentials = []\n",
    "while len(potentials) < 1000000:\n",
    "    pot = np.zeros(300)\n",
    "    forbid = getforbid()\n",
    "    for i in range(forbid):\n",
    "        pot[i] = 75000 - 50*i\n",
    "\n",
    "    pot[forbid] = random.gauss(0, 7.5)\n",
    "    i = forbid + 1\n",
    "    while i < len(pot):\n",
    "        pot[i] = pot[i - 1] + random.random() * random.gauss(0, 2)\n",
    "        i = i + 1\n",
    "\n",
    "    shift = pot[len(pot) - 1]\n",
    "    pot = pot - shift\n",
    "    potentials.append(pot)\n",
    "    \n",
    "#potentials is a list where each object in the list is a numpy array containing 300 values representing a potential"
   ]
  },
  {
   "cell_type": "markdown",
   "id": "modern-wealth",
   "metadata": {},
   "source": [
    "## Writing Potentials to LAMMPS Files"
   ]
  },
  {
   "cell_type": "markdown",
   "id": "demonstrated-surgery",
   "metadata": {},
   "source": [
    "Using MagicTools:"
   ]
  },
  {
   "cell_type": "markdown",
   "id": "verified-martial",
   "metadata": {},
   "source": [
    "First write potentials to MagicTools .pot files"
   ]
  },
  {
   "cell_type": "code",
   "execution_count": 121,
   "id": "authentic-astrology",
   "metadata": {},
   "outputs": [],
   "source": [
    "N = int(2) #N is number of bead types\n",
    "N_NB = int(N*(N+1)/2) #number of non-bonded interactions\n",
    "N_B = int(0) #number of bonded interactions\n",
    "N_A = int(0) #number of angle interactions\n",
    "\n",
    "Min = 0  \n",
    "Max = 15 #range of r for potentials\n",
    "\n",
    "NPoints = int(300) #Number of points in each potential\n",
    "\n",
    "stepsize = (Max-Min)/NPoints #the distance between points\n",
    "rvalues = np.linspace(Min + stepsize/2, Max - stepsize/2, NPoints) #an array containg the r values\n",
    "\n",
    "AtomList = ['A', 'B'] #the atom types\n",
    "AtomPairs = list(it.combinations_with_replacement(AtomList, r = 2)) #all possible atoms pairs, no repeats"
   ]
  },
  {
   "cell_type": "code",
   "execution_count": 109,
   "id": "grave-democrat",
   "metadata": {},
   "outputs": [],
   "source": [
    "general_section = \" &General \\n\" + \" NTypes= {} \\n\".format(N) + \" N_NB= {} \\n\".format(N_NB) + \\\n",
    "\" N_B= {} \\n\".format(N_B) + \" N_A= {} \\n\".format(N_A)+ \" Min= {} \\n\".format(Min) + \" Max= {} \\n\".format(Max) + \\\n",
    "\" NPoints= {} \\n\".format(NPoints) + \" &EndGeneral\""
   ]
  },
  {
   "cell_type": "code",
   "execution_count": 119,
   "id": "grave-federation",
   "metadata": {},
   "outputs": [],
   "source": [
    "potential_section = ''\n",
    "for i in range(len(AtomPairs)):\n",
    "    single_pot = potentials[random.randint(0, len(potentials)-1)]\n",
    "    header_section = \" &Potential \\n\" + \" Name= {}-{} \\n\".format(AtomPairs[i][0], AtomPairs[i][1]) + \" Type = NB \\n\" \\\n",
    "    + \" Min= {} \\n\".format(Min) + \" Max= {} \\n\".format(Max) + \" NPoints= {} \\n\".format(NPoints) + \\\n",
    "    \" AtomTypes= {},{} \\n\".format(AtomPairs[i][0], AtomPairs[i][1])\n",
    "    table_section = ' &Table \\n'\n",
    "    for j in range(NPoints):\n",
    "        rval = format(rvalues[j], '.7f')\n",
    "        potval = format(single_pot[j], '.7f')\n",
    "        table_section = table_section + \"     \" + str(rval) + \"  \" + str(potval) + \" \\n\"\n",
    "    table_section = table_section + \" &EndTable \\n\" + \" &EndPotential \\n\"\n",
    "    potential_section = potential_section + table_section"
   ]
  },
  {
   "cell_type": "code",
   "execution_count": 120,
   "id": "knowing-morocco",
   "metadata": {},
   "outputs": [],
   "source": [
    "potfile = open('potential.pot', 'w')\n",
    "potfile.write(general_section)\n",
    "potfile.write(potential_section)\n",
    "potfile.close()"
   ]
  },
  {
   "cell_type": "code",
   "execution_count": 104,
   "id": "stock-arabic",
   "metadata": {},
   "outputs": [],
   "source": []
  },
  {
   "cell_type": "code",
   "execution_count": 99,
   "id": "chief-validity",
   "metadata": {},
   "outputs": [
    {
     "name": "stdout",
     "output_type": "stream",
     "text": [
      "[('A', 'A'), ('A', 'B'), ('B', 'B')]\n",
      "('A', 'A')\n",
      "A\n"
     ]
    }
   ],
   "source": []
  },
  {
   "cell_type": "code",
   "execution_count": null,
   "id": "interesting-symposium",
   "metadata": {},
   "outputs": [],
   "source": []
  }
 ],
 "metadata": {
  "kernelspec": {
   "display_name": "Python 3",
   "language": "python",
   "name": "python3"
  },
  "language_info": {
   "codemirror_mode": {
    "name": "ipython",
    "version": 3
   },
   "file_extension": ".py",
   "mimetype": "text/x-python",
   "name": "python",
   "nbconvert_exporter": "python",
   "pygments_lexer": "ipython3",
   "version": "3.8.3"
  }
 },
 "nbformat": 4,
 "nbformat_minor": 5
}
