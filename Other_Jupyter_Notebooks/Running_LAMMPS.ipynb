{
 "cells": [
  {
   "cell_type": "markdown",
   "id": "vanilla-breathing",
   "metadata": {},
   "source": [
    "Code for running LAMMPS in a python loop to generate DNN training data"
   ]
  },
  {
   "cell_type": "markdown",
   "id": "eligible-typing",
   "metadata": {},
   "source": [
    "## Importing Libraries"
   ]
  },
  {
   "cell_type": "code",
   "execution_count": 1,
   "id": "authentic-measurement",
   "metadata": {},
   "outputs": [],
   "source": [
    "import random\n",
    "import itertools as it\n",
    "import string\n",
    "import os"
   ]
  },
  {
   "cell_type": "markdown",
   "id": "loaded-struggle",
   "metadata": {},
   "source": [
    "## Running LAMMPS"
   ]
  },
  {
   "cell_type": "code",
   "execution_count": 2,
   "id": "portable-public",
   "metadata": {},
   "outputs": [],
   "source": [
    "alphabet_list = list(string.ascii_uppercase)\n",
    "all_atoms_seperate = list(it.product(alphabet_list, repeat = 2))\n",
    "all_atoms = []\n",
    "for i in range(len(all_atoms_seperate)):\n",
    "    atom = all_atoms_seperate[i][0] + all_atoms_seperate[i][1]\n",
    "    all_atoms.append(atom)\n",
    "    \n",
    "#all_atoms is a list which contains all possible two letter combinations, which is the list which will be used\n",
    "#for the bead names"
   ]
  },
  {
   "cell_type": "code",
   "execution_count": 4,
   "id": "national-ranch",
   "metadata": {},
   "outputs": [
    {
     "data": {
      "text/plain": [
       "<function TextIOWrapper.close()>"
      ]
     },
     "execution_count": 4,
     "metadata": {},
     "output_type": "execute_result"
    }
   ],
   "source": [
    "inp = open(\"base.in\", \"r\")\n",
    "inp_lines = inp.readlines()\n",
    "inp.close"
   ]
  },
  {
   "cell_type": "code",
   "execution_count": 5,
   "id": "bibliographic-jason",
   "metadata": {},
   "outputs": [
    {
     "name": "stdout",
     "output_type": "stream",
     "text": [
      "0: processors 1 1 1\n",
      "\n",
      "1: units real\n",
      "\n",
      "2: atom_style atomic\n",
      "\n",
      "3: \n",
      "\n",
      "4: region box block 0 20 0 20 0 20\n",
      "\n",
      "5: \n",
      "\n",
      "6: \n",
      "\n",
      "7: \n",
      "\n",
      "8: \n",
      "\n",
      "9: pair_style table linear 1000\n",
      "\n",
      "10: \n",
      "\n",
      "11: \n",
      "\n",
      "12: velocity all create 1 157\n",
      "\n",
      "13: \n",
      "\n",
      "14: neighbor 0.7 bin\n",
      "\n",
      "15: neigh_modify every 20 delay 0 check no \n",
      "\n",
      "16: \n",
      "\n",
      "17: fix 1 all nvt temp 300 300 100\n",
      "\n",
      "18: dump id all atom 50 dump.lammpstrj\n",
      "\n",
      "19: \n",
      "\n",
      "20: timestep 1\n",
      "\n",
      "21: \n",
      "\n",
      "22: run 100000\n"
     ]
    }
   ],
   "source": [
    "for i in range(len(inp_lines)):\n",
    "    print('{}: '.format(i) + inp_lines[i])"
   ]
  },
  {
   "cell_type": "code",
   "execution_count": 3,
   "id": "regulation-presentation",
   "metadata": {},
   "outputs": [],
   "source": [
    "def write_input(beadnumber, filenumber):\n",
    "    inp = open(\"base.in\", \"r\")\n",
    "    inp_lines = inp.readlines()\n",
    "    inp.close\n",
    "    \n",
    "    create_atoms = ''\n",
    "    create_atom_seed = random.randint(1,1000000)\n",
    "    \n",
    "    masses = ''\n",
    "    \n",
    "    potentials = ''\n",
    "    \n",
    "    AtomList = []\n",
    "    for i in range(beadnumber):\n",
    "        AtomList.append(all_atoms[i])\n",
    "        \n",
    "    AtomPairs = list(it.combinations_with_replacement(AtomList, r = 2))\n",
    "    \n",
    "    vel_seed = random.randint(1,1000000)\n",
    "    \n",
    "    for j in range(1, beadnumber + 1):\n",
    "        create_atoms = create_atoms + 'create_atoms {} random 20 {} box \\n'.format(j, create_atom_seed + j)\n",
    "        masses = masses + 'mass {} 500 \\n'.format(j)\n",
    "        \n",
    "    for i in range(len(AtomPairs)):\n",
    "        a = AtomList.index(AtomPairs[i][0]) + 1\n",
    "        b = AtomList.index(AtomPairs[i][1]) + 1\n",
    "        potentials = potentials + \"pair_coeff {} {} \".format(a, b) + \\\n",
    "        \"LAMMPS_Potentials/{}beadpotential{}.{}_{}.table\\\n",
    "        \".format(beadnumber, filenumber, AtomPairs[i][0],AtomPairs[i][1]) + \\\n",
    "        \" {}_{} \\n\".format(AtomPairs[i][0], AtomPairs[i][1])\n",
    "    \n",
    "    \n",
    "    inp_lines[5] = \"create_box {} box \\n\".format(beadnumber)\n",
    "    \n",
    "    inp_lines[6] = create_atoms\n",
    "    inp_lines[7] = masses\n",
    "    inp_lines[10] = potentials\n",
    "    \n",
    "    inp_lines[12] = \"velocity all create 1 {} \\n\".format(vel_seed)\n",
    "    \n",
    "    \n",
    "    dumpfile = 'LAMMPS_Trajectories/{}bead{}.dcd'.format(beadnumber, filenumber)\n",
    "    inp_lines[18] = 'dump id all dcd 50 ' + dumpfile\n",
    "    \n",
    "    \n",
    "    out = open('LAMMPS_Inputs/{}bead{}.in'.format(beadnumber, filenumber), 'w')\n",
    "    for obj in inp_lines:\n",
    "        out.write(obj)\n",
    "    out.close\n",
    "    \n",
    "#creates an input file based on a template file \"base.in\"\n",
    "#that uses the previously created random potentials"
   ]
  },
  {
   "cell_type": "code",
   "execution_count": 4,
   "id": "gorgeous-truck",
   "metadata": {},
   "outputs": [],
   "source": [
    "write_input(1,1)"
   ]
  },
  {
   "cell_type": "code",
   "execution_count": 5,
   "id": "toxic-johnson",
   "metadata": {},
   "outputs": [
    {
     "data": {
      "text/plain": [
       "0"
      ]
     },
     "execution_count": 5,
     "metadata": {},
     "output_type": "execute_result"
    }
   ],
   "source": [
    "os.system(\"lmp -in LAMMPS_Inputs/1bead1.in\")"
   ]
  },
  {
   "cell_type": "code",
   "execution_count": 8,
   "id": "recorded-kruger",
   "metadata": {},
   "outputs": [],
   "source": [
    "for i in range(1,5):\n",
    "    for j in range(1):\n",
    "        write_input(i,j)\n",
    "        os.system(\"lmp -in LAMMPS_Inputs/{}bead{}.in\".format(i,j))"
   ]
  },
  {
   "cell_type": "code",
   "execution_count": null,
   "id": "biological-trial",
   "metadata": {},
   "outputs": [],
   "source": []
  }
 ],
 "metadata": {
  "kernelspec": {
   "display_name": "Python 3",
   "language": "python",
   "name": "python3"
  },
  "language_info": {
   "codemirror_mode": {
    "name": "ipython",
    "version": 3
   },
   "file_extension": ".py",
   "mimetype": "text/x-python",
   "name": "python",
   "nbconvert_exporter": "python",
   "pygments_lexer": "ipython3",
   "version": "3.8.3"
  }
 },
 "nbformat": 4,
 "nbformat_minor": 5
}
