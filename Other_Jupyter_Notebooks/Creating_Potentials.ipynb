{
 "cells": [
  {
   "cell_type": "markdown",
   "id": "suited-programming",
   "metadata": {},
   "source": [
    "This notebook will create sets of potentials to run simulations with.\n",
    "\n",
    "## Importing Libraries"
   ]
  },
  {
   "cell_type": "code",
   "execution_count": 1,
   "id": "infinite-lightning",
   "metadata": {},
   "outputs": [],
   "source": [
    "import numpy as np\n",
    "import matplotlib.pyplot as plt\n",
    "import random\n",
    "import MagicTools as mt\n",
    "import itertools as it\n",
    "from scipy.signal import savgol_filter\n",
    "import string"
   ]
  },
  {
   "cell_type": "markdown",
   "id": "patent-requirement",
   "metadata": {},
   "source": [
    "## Creating the Potentials\n",
    "\n",
    "Each potential will be a numpy array consisting of 300 points.\n",
    "\n",
    "In order to be physical, for short distances (small r) the value of the potential needs to be very high (forbidden region), and need to go to zero for large r."
   ]
  },
  {
   "cell_type": "code",
   "execution_count": 2,
   "id": "three-springer",
   "metadata": {},
   "outputs": [],
   "source": [
    "random.seed(1)"
   ]
  },
  {
   "cell_type": "code",
   "execution_count": 3,
   "id": "hungry-lemon",
   "metadata": {},
   "outputs": [],
   "source": [
    "def getforbid(N, mean, SD):\n",
    "    forbid = random.gauss(mean, SD)\n",
    "    forbid = int(round(forbid, 0))\n",
    "    if forbid > 0 and forbid < N:\n",
    "        return forbid\n",
    "    else:\n",
    "        return getforbid(N, mean, SD)\n",
    "        \n",
    "#this function generates the size of the forbidden reason randomly for a potential of length N,\n",
    "#according to a gaussian distribution centred at mean with s.d. SD\n",
    "#output cannot be negative or larger than N"
   ]
  },
  {
   "cell_type": "code",
   "execution_count": 8,
   "id": "smaller-cooperation",
   "metadata": {},
   "outputs": [],
   "source": [
    "def create_potential(N, mean, SD):\n",
    "    pot = np.zeros(N)\n",
    "    forbid = getforbid(N, mean, SD)\n",
    "    \n",
    "    for i in range(forbid):\n",
    "        pot[i] = 75000 - 50*i\n",
    "\n",
    "    non_forbid = np.zeros(N - forbid)\n",
    "    non_forbid[0] = random.gauss(0, 2.5)\n",
    "    i = 1\n",
    "    while i < len(non_forbid):\n",
    "        non_forbid[i] = non_forbid[i - 1] + random.random() * random.gauss(0, .5)\n",
    "        i = i + 1\n",
    "\n",
    "    non_forbid_smooth = savgol_filter(non_forbid, 31, 3)\n",
    "    \n",
    "    while max(non_forbid_smooth) - min(non_forbid_smooth) > 15:\n",
    "        non_forbid_smooth = 0.9*non_forbid_smooth\n",
    "    \n",
    "    for i in range(len(non_forbid_smooth)):\n",
    "        pot[forbid + i] = non_forbid_smooth[i]\n",
    "\n",
    "    shift = pot[len(pot) - 1]\n",
    "    pot = pot - shift\n",
    "    \n",
    "    return pot\n",
    "\n",
    "#this function creates a random potential of length N\n",
    "#forbidden region size determined by Gaussian with mean mean and standard deviation SD\n",
    "#the potential is smoothed using a savgol filter"
   ]
  },
  {
   "cell_type": "code",
   "execution_count": 19,
   "id": "funny-fetish",
   "metadata": {},
   "outputs": [],
   "source": [
    "potentials = []\n",
    "while len(potentials) < 1000000:\n",
    "    pot = create_potential(300, 60, 25)\n",
    "    potentials.append(pot)\n",
    "    \n",
    "#potentials is a list where each object in the list is a numpy array containing 300 values representing a potential"
   ]
  },
  {
   "cell_type": "markdown",
   "id": "modern-wealth",
   "metadata": {},
   "source": [
    "## Writing Potentials to LAMMPS Files"
   ]
  },
  {
   "cell_type": "markdown",
   "id": "demonstrated-surgery",
   "metadata": {},
   "source": [
    "Using MagicTools:"
   ]
  },
  {
   "cell_type": "code",
   "execution_count": 15,
   "id": "biblical-collect",
   "metadata": {},
   "outputs": [],
   "source": [
    "alphabet_list = list(string.ascii_uppercase)\n",
    "all_atoms_seperate = list(it.product(alphabet_list, repeat = 2))\n",
    "all_atoms = []\n",
    "for i in range(len(all_atoms_seperate)):\n",
    "    atom = all_atoms_seperate[i][0] + all_atoms_seperate[i][1]\n",
    "    all_atoms.append(atom)\n",
    "    \n",
    "#all_atoms is a list which contains all possible two letter combinations, which is the list which will be used\n",
    "#for the bead names"
   ]
  },
  {
   "cell_type": "code",
   "execution_count": 16,
   "id": "stock-arabic",
   "metadata": {},
   "outputs": [],
   "source": [
    "def write_potential(filename, n):\n",
    "    N = int(n)\n",
    "    N_NB = int(N*(N+1)/2) #number of non-bonded interactions\n",
    "    N_B = int(0) #number of bonded interactions\n",
    "    N_A = int(0) #number of angle interactions\n",
    "\n",
    "    Min = 0  \n",
    "    Max = 15 #range of r for potentials\n",
    "\n",
    "    NPoints = int(300) #Number of points in each potential\n",
    "\n",
    "    stepsize = (Max-Min)/NPoints #the distance between points\n",
    "    rvalues = np.linspace(Min + stepsize/2, Max - stepsize/2, NPoints) #an array containg the r values\n",
    "\n",
    "    AtomList = []\n",
    "    for i in range(N):\n",
    "        AtomList.append(all_atoms[i])\n",
    "        \n",
    "    AtomPairs = list(it.combinations_with_replacement(AtomList, r = 2)) #all possible atoms pairs, no repeats\n",
    "    \n",
    "    \n",
    "    \n",
    "    general_section = \" &General \\n\" + \" NTypes= {} \\n\".format(N) + \" N_NB= {} \\n\".format(N_NB) + \\\n",
    "    \" N_B= {} \\n\".format(N_B) + \" N_A= {} \\n\".format(N_A)+ \" Min= {} \\n\".format(Min) + \" Max= {} \\n\".format(Max) + \\\n",
    "    \" NPoints= {} \\n\".format(NPoints) + \" &EndGeneral \\n\"\n",
    "    \n",
    "    potential_section = ''\n",
    "    for i in range(len(AtomPairs)):\n",
    "        single_pot = potentials[random.randint(0, len(potentials)-1)]\n",
    "        header_section = \" &Potential \\n\" + \" Name= {}-{} \\n\".format(AtomPairs[i][0], AtomPairs[i][1]) + \\\n",
    "        \" Type = NB \\n\" \\\n",
    "        + \" Min= {} \\n\".format(Min) + \" Max= {} \\n\".format(Max) + \" NPoints= {} \\n\".format(NPoints) + \\\n",
    "        \" AtomTypes= {},{} \\n\".format(AtomPairs[i][0], AtomPairs[i][1])\n",
    "        \n",
    "        table_section = ' &Table \\n'\n",
    "        for j in range(NPoints):\n",
    "            rval = format(rvalues[j], '.7f')\n",
    "            potval = format(single_pot[j], '.7f')\n",
    "            table_section = table_section + \"     \" + str(rval) + \"  \" + str(potval) + \" \\n\"\n",
    "            \n",
    "        table_section = table_section + \" &EndTable \\n\" + \" &EndPotential \\n\"\n",
    "        \n",
    "        potential_section = potential_section + header_section + table_section\n",
    "        \n",
    "    potfile = open('{}.pot'.format(filename), 'w')\n",
    "    potfile.write(general_section)\n",
    "    potfile.write(potential_section)\n",
    "    potfile.close()\n",
    "    \n",
    "#write potentials is a function which writes a magic potential file\n",
    "#the first argument is the filename, output will be <filename.pot>\n",
    "#the second argument (N) is th number of bead types\n",
    "#the potentials are randomly selected from the list potentials"
   ]
  },
  {
   "cell_type": "code",
   "execution_count": 17,
   "id": "chief-validity",
   "metadata": {},
   "outputs": [],
   "source": [
    "def create_files(BeadRange, number):\n",
    "    for BeadNumber in range(1, BeadRange+1):\n",
    "        for j in range(number):\n",
    "            write_potential('MagiC_Potentials/{}beadpotential{}'.format(BeadNumber, j), BeadNumber)\n",
    "            pot = mt.ReadPot('MagiC_Potentials/{}beadpotential{}.pot'.format(BeadNumber, j), quiet = True)\n",
    "            mt.PotsExport(pot, MDEngine = 'LAMMPS', Rmaxtable = 15.5, PHImaxtable = 180.0, \\\n",
    "                          npoints = 2500, Umax = 6000.0, \\\n",
    "                          interpol = True, method = 'gauss', sigma = 0.5, noplot=True, hardcopy = False, \\\n",
    "                          filename = 'LAMMPS_Potentials/{}beadpotential{}'.format(BeadNumber, j))\n",
    "\n",
    "#this function creates magic and LAMMPS potential files for 1, 2, ..., BeadRange number of beads\n",
    "#the second argument determines how many files are created for each bead number"
   ]
  },
  {
   "cell_type": "code",
   "execution_count": 20,
   "id": "sacred-aluminum",
   "metadata": {},
   "outputs": [],
   "source": [
    "create_files(1, 10000)"
   ]
  },
  {
   "cell_type": "code",
   "execution_count": 10,
   "id": "random-crown",
   "metadata": {},
   "outputs": [],
   "source": [
    "create_files(2, 2)"
   ]
  },
  {
   "cell_type": "code",
   "execution_count": 11,
   "id": "opening-valley",
   "metadata": {},
   "outputs": [],
   "source": [
    "#pot = mt.ReadPot('MagiC_Potentials/1beadpotential3.pot', quiet = True)\n",
    "#mt.PotsExport(pot, MDEngine = 'LAMMPS', Rmaxtable = 15.5, PHImaxtable = 180.0, \\\n",
    "#                          npoints = 2500, Umax = 6000.0, \\\n",
    "#                          interpol = True, method = 'gauss', sigma = 0.5, noplot=True, hardcopy = False, \\\n",
    "#                          filename = '1bead')"
   ]
  },
  {
   "cell_type": "code",
   "execution_count": 6,
   "id": "thick-departure",
   "metadata": {},
   "outputs": [],
   "source": [
    "x = np.linspace(0,15,300)\n"
   ]
  },
  {
   "cell_type": "code",
   "execution_count": 14,
   "id": "sitting-summary",
   "metadata": {},
   "outputs": [
    {
     "data": {
      "text/plain": [
       "(-15.0, 15.0)"
      ]
     },
     "execution_count": 14,
     "metadata": {},
     "output_type": "execute_result"
    },
    {
     "data": {
      "image/png": "[encoded data removed]",
      "text/plain": [
       "<Figure size 432x288 with 1 Axes>"
      ]
     },
     "metadata": {
      "needs_background": "light"
     },
     "output_type": "display_data"
    }
   ],
   "source": [
    "x = np.linspace(0,15,300)\n",
    "\n",
    "for i in range(5):\n",
    "    plt.plot(x, potentials[random.randint(0,len(potentials))])\n",
    "\n",
    "plt.ylim(-15,15)"
   ]
  },
  {
   "cell_type": "code",
   "execution_count": 22,
   "id": "noble-pointer",
   "metadata": {},
   "outputs": [],
   "source": [
    "N = 300\n",
    "pot = [1]\n",
    "\n",
    "pot3 = np.zeros(300)\n",
    "pot5 = np.zeros(300)\n",
    "pot7 = np.zeros(300)\n",
    "forbid = getforbid(300, 60, 25)\n",
    "    \n",
    "for i in range(forbid):\n",
    "    pot3[i] = 75000 - 50*i\n",
    "    pot5[i] = 75000 - 50*i\n",
    "    pot7[i] = 75000 - 50*i\n",
    "\n",
    "non_forbid = np.zeros(N - forbid)\n",
    "non_forbid[0] = random.gauss(0, 2.5)\n",
    "i = 1\n",
    "while i < len(non_forbid):\n",
    "    non_forbid[i] = non_forbid[i - 1] + random.random() * random.gauss(0, 1)\n",
    "    i = i + 1\n",
    "\n",
    "non_forbid_smooth3 = savgol_filter(non_forbid, 3, 2)\n",
    "non_forbid_smooth5 = savgol_filter(non_forbid, 5, 2)\n",
    "non_forbid_smooth7 = savgol_filter(non_forbid, 7, 2)\n",
    "    \n",
    "while max(non_forbid_smooth3) - min(non_forbid_smooth3) > 15:\n",
    "    non_forbid_smooth3 = 0.9*non_forbid_smooth3\n",
    "    \n",
    "while max(non_forbid_smooth5) - min(non_forbid_smooth5) > 15:\n",
    "    non_forbid_smooth5 = 0.9*non_forbid_smooth5\n",
    "    \n",
    "while max(non_forbid_smooth7) - min(non_forbid_smooth7) > 15:\n",
    "    non_forbid_smooth7 = 0.9*non_forbid_smooth7\n",
    "    \n",
    "for i in range(len(non_forbid_smooth3)):\n",
    "    pot3[forbid + i] = non_forbid_smooth3[i]\n",
    "    pot5[forbid + i] = non_forbid_smooth5[i]\n",
    "    pot7[forbid + i] = non_forbid_smooth7[i]\n",
    "\n",
    "#shift = pot[len(pot) - 1]\n",
    "#pot = pot - shift\n",
    "#if shift > 10:\n",
    "#    pot = pot * 0.5\n",
    "    \n",
    "\n",
    "\n",
    "#this function creates a random potential of length N\n",
    "#forbidden region size determined by Gaussian with mean mean and standard deviation SD\n",
    "#the potential is smoothed using a savgol filter"
   ]
  },
  {
   "cell_type": "code",
   "execution_count": 24,
   "id": "atmospheric-ending",
   "metadata": {},
   "outputs": [
    {
     "data": {
      "text/plain": [
       "(-5.0, 5.0)"
      ]
     },
     "execution_count": 24,
     "metadata": {},
     "output_type": "execute_result"
    },
    {
     "data": {
      "image/png": "[encoded data removed]",
      "text/plain": [
       "<Figure size 432x288 with 1 Axes>"
      ]
     },
     "metadata": {
      "needs_background": "light"
     },
     "output_type": "display_data"
    }
   ],
   "source": [
    "plt.plot(x, pot3, label = '3')\n",
    "plt.plot(x, pot5, label = '5')\n",
    "plt.plot(x, pot7, label = '7')\n",
    "plt.legend()\n",
    "plt.ylim(-5,5)"
   ]
  },
  {
   "cell_type": "code",
   "execution_count": null,
   "id": "maritime-martial",
   "metadata": {},
   "outputs": [],
   "source": []
  }
 ],
 "metadata": {
  "kernelspec": {
   "display_name": "Python 3",
   "language": "python",
   "name": "python3"
  },
  "language_info": {
   "codemirror_mode": {
    "name": "ipython",
    "version": 3
   },
   "file_extension": ".py",
   "mimetype": "text/x-python",
   "name": "python",
   "nbconvert_exporter": "python",
   "pygments_lexer": "ipython3",
   "version": "3.8.3"
  }
 },
 "nbformat": 4,
 "nbformat_minor": 5
}
