{
 "cells": [
  {
   "cell_type": "markdown",
   "id": "asian-swedish",
   "metadata": {},
   "source": [
    "Code to create the RDFs from the trajectory files\n",
    "\n",
    "This is deprecated, but may be useful to create RDF input files for systems with multiple bead types\n",
    "\n"
   ]
  },
  {
   "cell_type": "markdown",
   "id": "shaped-enemy",
   "metadata": {},
   "source": [
    "## Creating the RDF inputs"
   ]
  },
  {
   "cell_type": "code",
   "execution_count": 1,
   "id": "caring-somewhere",
   "metadata": {},
   "outputs": [],
   "source": [
    "import os\n",
    "import itertools as it\n",
    "import string"
   ]
  },
  {
   "cell_type": "code",
   "execution_count": 2,
   "id": "restricted-sight",
   "metadata": {},
   "outputs": [
    {
     "name": "stdout",
     "output_type": "stream",
     "text": [
      "AD\n"
     ]
    }
   ],
   "source": [
    "alphabet_list = list(string.ascii_uppercase)\n",
    "all_atoms_seperate = list(it.product(alphabet_list, repeat = 2))\n",
    "all_atoms = []\n",
    "for i in range(len(all_atoms_seperate)):\n",
    "    atom = all_atoms_seperate[i][0] + all_atoms_seperate[i][1]\n",
    "    all_atoms.append(atom)"
   ]
  },
  {
   "cell_type": "code",
   "execution_count": 3,
   "id": "beautiful-chick",
   "metadata": {},
   "outputs": [],
   "source": [
    "def create_rdf_inp(beadnumber, filenumber):\n",
    "    base = open('base.inp', 'r')\n",
    "    base_lines = base.readlines()\n",
    "    base.close()\n",
    "    \n",
    "    base_lines[1] = ' TrajFile = LAMMPS_Trajectories/{}bead{}.xtc \\n'.format(beadnumber, filenumber)\n",
    "    \n",
    "    base_lines[2] = ' NMType = {} \\n'.format(beadnumber)\n",
    "    \n",
    "    beadnames = ''\n",
    "    for i in range(beadnumber):\n",
    "        beadnames = beadnames + str(all_atoms[i]) + ','\n",
    "    \n",
    "    base_lines[3] = ' NameMType = ' + beadnames + ' \\n'\n",
    "    \n",
    "    base_lines[4] = ' NMolMType = ' + '20,'*beadnumber + ' \\n'\n",
    "    \n",
    "    base_lines[8] = ' OutputFile = RDFs/{}bead{}.rdf \\n'.format(beadnumber, filenumber)\n",
    "    \n",
    "    cgtypes = '' \n",
    "    for i in range(beadnumber):\n",
    "        cgtypes = cgtypes + str(all_atoms[i]) + ': ' + str(all_atoms[i]) + ' \\n'\n",
    "        \n",
    "    base_lines[17] = cgtypes\n",
    "    \n",
    "    out = open('RDF_Inputs/{}bead{}.inp'.format(beadnumber, filenumber), 'w')\n",
    "    for obj in base_lines:\n",
    "        out.write(obj)\n",
    "    out.close"
   ]
  },
  {
   "cell_type": "code",
   "execution_count": 19,
   "id": "sporting-intersection",
   "metadata": {},
   "outputs": [],
   "source": [
    "create_rdf_inp(3,2)"
   ]
  },
  {
   "cell_type": "code",
   "execution_count": 9,
   "id": "stock-newport",
   "metadata": {},
   "outputs": [
    {
     "name": "stdout",
     "output_type": "stream",
     "text": [
      "0   &Parameters\n",
      "\n",
      "1    TrajFile = ../2-CGtraj/cgtraj.NaCl \n",
      "\n",
      "2    NMType = 2\n",
      "\n",
      "3    NameMType = Na+.CG,Cl-.CG,\n",
      "\n",
      "4    NMolMType = 20,20,\n",
      "\n",
      "5    NFBEG = 1,\n",
      "\n",
      "6    NFEND = 1,\n",
      "\n",
      "7    ISTEP = 1, \n",
      "\n",
      "8    OutputFile = NaCl_1M.rdf\n",
      "\n",
      "9    RMaxNB = 15.\n",
      "\n",
      "10    RMaxB =10.0\n",
      "\n",
      "11    ResolNB =0.05\n",
      "\n",
      "12    ResolB=0.02\n",
      "\n",
      "13    ResolA=1.0\n",
      "\n",
      "14   &ENDParameters\n",
      "\n",
      "15   \n",
      "\n",
      "16   &CGTypes\n",
      "\n",
      "17   \n",
      "\n",
      "18   &EndCGTypes\n",
      "\n",
      "19   \n",
      "\n",
      "20   &RDFsNB\n",
      "\n",
      "21   Add: all\n",
      "\n",
      "22   &EndRDFsNB\n",
      "\n",
      "23   \n",
      "\n",
      "24   &RDFsB\n",
      "\n",
      "25   &EndRDFsB\n",
      "\n",
      "26   \n",
      "\n",
      "27   &RDFsA\n",
      "\n",
      "28   &EndRDFsA\n",
      "\n"
     ]
    }
   ],
   "source": [
    "base = open('base.inp', 'r')\n",
    "base_lines = base.readlines()\n",
    "base.close()\n",
    "for i in range(len(base_lines)):\n",
    "    print(str(i) + \"   \" + str(base_lines[i]))"
   ]
  },
  {
   "cell_type": "code",
   "execution_count": 7,
   "id": "crude-pitch",
   "metadata": {},
   "outputs": [
    {
     "name": "stdout",
     "output_type": "stream",
     "text": [
      "20,20,20,\n"
     ]
    }
   ],
   "source": [
    "for i in range(1,31):\n",
    "    for j in range(10):\n",
    "        create_rdf_inp(i,j)\n",
    "        os.system('rdf.py -i ' + 'RDF_Inputs/{}bead{}.inp -np 4'.format(i, j))"
   ]
  },
  {
   "cell_type": "markdown",
   "id": "short-logic",
   "metadata": {},
   "source": [
    "## Creating .mmol files"
   ]
  },
  {
   "cell_type": "code",
   "execution_count": 1,
   "id": "blind-encyclopedia",
   "metadata": {},
   "outputs": [],
   "source": [
    "def write_mmol(Atom, weight):\n",
    "    string = '    1 \\n' + '          ' + str(Atom) + '         ' + '0.0000' \\\n",
    "    + '       ' + '0.0000' + '       ' + '0.0000' + '    ' + str(weight) + '  0.0000'\n",
    "    write = open('{}.mmol'.format(Atom), 'w')\n",
    "    write.write(string)\n",
    "    write.close"
   ]
  },
  {
   "cell_type": "code",
   "execution_count": 6,
   "id": "careful-latex",
   "metadata": {},
   "outputs": [],
   "source": [
    "for i in range(31):\n",
    "    write_mmol(all_atoms[i])"
   ]
  },
  {
   "cell_type": "code",
   "execution_count": 4,
   "id": "magnetic-dover",
   "metadata": {},
   "outputs": [
    {
     "data": {
      "text/plain": [
       "0"
      ]
     },
     "execution_count": 4,
     "metadata": {},
     "output_type": "execute_result"
    }
   ],
   "source": [
    "create_rdf_inp(28,8)\n",
    "os.system('rdf.py -i ' + 'RDF_Inputs/{}bead{}.inp -np 4'.format(28, 8))"
   ]
  },
  {
   "cell_type": "code",
   "execution_count": null,
   "id": "reverse-reverse",
   "metadata": {},
   "outputs": [],
   "source": []
  }
 ],
 "metadata": {
  "kernelspec": {
   "display_name": "Python 3",
   "language": "python",
   "name": "python3"
  },
  "language_info": {
   "codemirror_mode": {
    "name": "ipython",
    "version": 3
   },
   "file_extension": ".py",
   "mimetype": "text/x-python",
   "name": "python",
   "nbconvert_exporter": "python",
   "pygments_lexer": "ipython3",
   "version": "3.8.3"
  }
 },
 "nbformat": 4,
 "nbformat_minor": 5
}
